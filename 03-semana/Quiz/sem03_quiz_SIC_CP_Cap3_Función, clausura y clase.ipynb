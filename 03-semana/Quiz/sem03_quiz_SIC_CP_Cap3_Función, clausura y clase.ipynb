{
 "cells": [
  {
   "cell_type": "markdown",
   "id": "5ad8356f",
   "metadata": {},
   "source": [
    "# Coding and Programming\n",
    "\n",
    "## Capítulo 3\n",
    "\n",
    "### Función, clausura y clase\n",
    "\n",
    "- **Unidad 17.** Función\n",
    "- **Unidad 18.** Llamada a la función de recurrencia.\n",
    "- **Unidad 19.** Lambda\n",
    "- **Unidad 20.** Clausura\n",
    "- **Unidad 21.** Clase\n",
    "\n",
    "# Quiz 3"
   ]
  },
  {
   "cell_type": "markdown",
   "id": "a94ec368",
   "metadata": {},
   "source": [
    "___"
   ]
  },
  {
   "cell_type": "markdown",
   "id": "a11871f3",
   "metadata": {},
   "source": [
    "## Q 17-01\n",
    "\n",
    "Reciba las coordenadas `(x1, y1), (x2, y2)` de dos puntos del usuario e imprima la distancia entre los dos puntos de la siguiente manera. Para hacer esto, implemente la función `distancia(x1, y1, x2, y2)`.\n",
    "\n",
    "\n",
    "**Pauta de código:** consulte la fórmula para encontrar la distancia entre dos puntos.\n"
   ]
  },
  {
   "cell_type": "code",
   "execution_count": 9,
   "id": "14ce695c",
   "metadata": {},
   "outputs": [
    {
     "name": "stdout",
     "output_type": "stream",
     "text": [
      "La distancia entre los dos puntos es = 5.0\n"
     ]
    }
   ],
   "source": [
    "import math as math\n",
    "\n",
    "def distancia(x1,y1,x2,y2):\n",
    "    d = math.sqrt((x2 - x1)**2 + (y2 - y1)**2)\n",
    "    print(f\"La distancia entre los dos puntos es = {d}\")\n",
    "\n",
    "x1 = int(input(\"Ingrese el punto x1: \"))\n",
    "y1 = int(input(\"Ingrese el punto y1: \"))\n",
    "x2 = int(input(\"Ingrese el punto x2: \"))\n",
    "y2 = int(input(\"Ingrese el punto y2: \"))\n",
    "\n",
    "distancia(x1,y1,x2,y2) # Valores ingresados: x1=2, y1=3, x2=5, y2=7\n"
   ]
  },
  {
   "cell_type": "markdown",
   "id": "a207d974",
   "metadata": {},
   "source": [
    "## Q 18-01\n",
    "\n",
    "Un palíndromo es una oración, palabra o cadena que es lo mismo que leer cualquier carácter de forma consecutiva.\n",
    "\n",
    "Por ejemplo, hay palabras como level, kayak, salas, somos, radar, reconocer.\n",
    "\n",
    "Usemos una llamada recursiva para determinar el palíndromo.\n",
    "\n",
    "Defina una función llamada `is_palindrome` y escriba un programa que reciba una cadena del usuario e imprima si el palindrome es correcto o no.\n",
    "\n",
    "**Pauta de código:** Llame a la función `is_palindrome` dentro de la función `is_palindrome`"
   ]
  },
  {
   "cell_type": "code",
   "execution_count": 8,
   "id": "14f23907",
   "metadata": {},
   "outputs": [
    {
     "name": "stdout",
     "output_type": "stream",
     "text": [
      "La palabra ana es un palindromo.\n"
     ]
    }
   ],
   "source": [
    "def is_palindrome(cadena):\n",
    "    if len(cadena) <= 1:\n",
    "        return True\n",
    "    elif cadena[0] != cadena[-1]:\n",
    "        return False\n",
    "    else: \n",
    "        return is_palindrome(cadena[1:-1])        \n",
    "\n",
    "\n",
    "palabra = input(\"Ingrese una palabra: \")\n",
    "# Convertimos la cadena de texto en minúscula\n",
    "cadena = palabra.lower()\n",
    "# Eliminamos los espacios en blanco\n",
    "cadena_str = cadena.replace(\" \",\"\")  \n",
    "\n",
    "if is_palindrome(cadena_str):\n",
    "    print(f\"La palabra {cadena_str} es un palindromo.\")\n",
    "else :\n",
    "    print(f\"La palabra {cadena_str} no es un palíndromo.\")\n",
    "\n"
   ]
  },
  {
   "cell_type": "markdown",
   "id": "fbfb4985",
   "metadata": {},
   "source": [
    "## Q 19-01\n",
    "\n",
    "\n",
    "Después de poner una lista llamada `n_list` con valores de `[10, 20, 30]` en la función `map`.\n",
    "\n",
    "```\n",
    "n_list = [10,20,30]\n",
    "twice  = list(map(lambda x: x*2, n_list))\n",
    "triple = list(map(lambda x: x*3, n_list))\n",
    "```\n",
    "\n",
    "Indique el contenido de las variables `twice` y `triple`."
   ]
  },
  {
   "cell_type": "code",
   "execution_count": 10,
   "id": "2cdc7344",
   "metadata": {},
   "outputs": [
    {
     "name": "stdout",
     "output_type": "stream",
     "text": [
      "Twice: [20, 40, 60]\n",
      "Triple: [30, 60, 90]\n"
     ]
    }
   ],
   "source": [
    "n_list = [10,20,30]\n",
    "\n",
    "# twice mostrará el doble de todos los valores de la lista.\n",
    "# Dentro de la lista aplicando la función map se vería algo así:\n",
    "# n_list = [10*2, 20*2, 30*2]\n",
    "twice  = list(map(lambda x: x*2, n_list)) \n",
    "\n",
    "# triple mostrará el triple de todos los valores de la lista.\n",
    "# Dentro de la lista aplicando la función map se vería algo así:\n",
    "# n_list = [10*3, 20*3, 30*3]\n",
    "triple = list(map(lambda x: x*3, n_list)) \n",
    "\n",
    "print(f\"Twice: {twice}\")\n",
    "print(f\"Triple: {triple}\")\n"
   ]
  },
  {
   "cell_type": "markdown",
   "id": "98938d2d",
   "metadata": {},
   "source": [
    "## Q 20-01\n",
    "\n",
    "En el siguiente código, espere qué valor se incluye finalmente en `num_list`. Calcule el resultado esperado a mano.\n",
    "\n",
    "**Pauta de codificación:** Escriba 5 veces la declaración `for`. Espere este resultado y envíe el resultado.\n",
    "\n",
    "```\n",
    "def calc_digit(n):\n",
    "    def findal(digit):\n",
    "        return digit**n\n",
    "    return final\n",
    "\n",
    "num_list = []\n",
    "for num in range(1,6):\n",
    "    num_list.append( calc_digit(num) )\n",
    "    print( num_list[num-1](num) )\n",
    "```"
   ]
  },
  {
   "cell_type": "markdown",
   "id": "fcde558f",
   "metadata": {},
   "source": [
    "El código que se presenta tiene un error lógico, porque la función que retorna calc_digital() no existe.\n",
    "\n",
    "\n",
    "Para que el código funcione el retorno de la función cal_digit() debería ser: **findal()** de la siguiente manera:\n",
    "\n",
    "```\n",
    "def calc_digit(n):\n",
    "    def findal(digit):\n",
    "        return digit**n                     -> 4. se realiza la operación de exponenciación y retorna ese valor\n",
    "    return findal\n",
    "\n",
    "num_list = []\n",
    "for num in range(1,6):                      -> 1. num = 1\n",
    "    num_list.append( calc_digit(num) )      -> 2. adjuntamos la función calc_digit() a la lista num_list()\n",
    "    print( num_list[num-1](num) )           -> 3. accedemos a la función findal() y le pasamos el argumento (num)\n",
    "                                            -> 5. imprime el valor: 1\n",
    "\n",
    "for num in range(1,6):                      -> 1. num = 2\n",
    "    num_list.append( calc_digit(num) )      -> 2. adjuntamos la función calc_digit() a la lista num_list()\n",
    "    print( num_list[num-1](num) )           -> 3. accedemos a la función findal() y le pasamos el argumento (num)\n",
    "                                            -> 5. imprime el valor: 4\n",
    "\n",
    "for num in range(1,6):                      -> 1. num = 3\n",
    "    num_list.append( calc_digit(num) )      -> 2. adjuntamos la función calc_digit() a la lista num_list()\n",
    "    print( num_list[num-1](num) )           -> 3. accedemos a la función findal() y le pasamos el argumento (num) \n",
    "                                            -> 5. imprime el valor: 27\n",
    "\n",
    "for num in range(1,6):                      -> 1. num = 4\n",
    "    num_list.append( calc_digit(num) )      -> 2. adjuntamos la función calc_digit() a la lista num_list()\n",
    "    print( num_list[num-1](num) )           -> 3. accedemos a la función findal() y le pasamos el argumento (num) \n",
    "                                            -> 5. imprime el valor: 256\n",
    "\n",
    "for num in range(1,6):                      -> 1. num = 4\n",
    "    num_list.append( calc_digit(num) )      -> 2. adjuntamos la función calc_digit() a la lista num_list()\n",
    "    print( num_list[num-1](num) )           -> 3. accedemos a la función findal() y le pasamos el argumento (num)\n",
    "                                            -> 5. imprime el valor: 3125\n",
    "```\n",
    "\n",
    "El resultado de este código es el siguiente: \n",
    "+ 1\n",
    "+ 4\n",
    "+ 27\n",
    "+ 256\n",
    "+ 3125\n",
    "\n",
    "Los valores finales de la num_list[] se vería algo como esto: \n",
    "num_list = [findal(1), findal(2), findal(3), findal(4), findal(5)]"
   ]
  },
  {
   "cell_type": "markdown",
   "id": "d3ece88b",
   "metadata": {},
   "source": [
    "## Q 21-01\n",
    "\n",
    "Implemente las funciones de multiplicación (*) y división (/) de dos vectores usando los métodos `mul` y `truediv` aprendidos en la **unidad 21**. Suponiendo que `v1` es `(30, 40)` y `v2` es `(10, 20)`, codifique (escriba la declaración de salida) para devolver el siguiente resultado como resultado de la multiplicación y división de dos vectores.\n",
    "\n",
    "\n",
    "**Pauta de codificación:** escriba código que amplíe la funcionalidad de la clase `Vector2D` que aprendió en este capítulo."
   ]
  },
  {
   "cell_type": "code",
   "execution_count": 9,
   "id": "1d58d47c",
   "metadata": {},
   "outputs": [
    {
     "name": "stdout",
     "output_type": "stream",
     "text": [
      "(300, 800)\n",
      "(3.0, 2.0)\n"
     ]
    }
   ],
   "source": [
    "class Vector2D:\n",
    "    def __init__(self, x, y):\n",
    "        self.x = x\n",
    "        self.y = y\n",
    "    \n",
    "    def __mul__(self, other):\n",
    "        return Vector2D(self.x * other.x, self.y * other.y)\n",
    "    \n",
    "    def __truediv__(self, other):\n",
    "        return Vector2D(self.x / other.x, self.y / other.y)\n",
    "    \n",
    "    def __str__(self):\n",
    "        return f'({self.x}, {self.y})'\n",
    "    \n",
    "v1 = Vector2D(30,40)\n",
    "v2 = Vector2D(10,20)\n",
    "\n",
    "multiplicacion = v1 * v2\n",
    "print(multiplicacion)\n",
    "\n",
    "division = v1 / v2\n",
    "print(division)\n",
    "\n"
   ]
  },
  {
   "cell_type": "markdown",
   "id": "2717ce09",
   "metadata": {},
   "source": [
    "___"
   ]
  },
  {
   "cell_type": "markdown",
   "id": "10514335",
   "metadata": {},
   "source": [
    "# Fin"
   ]
  }
 ],
 "metadata": {
  "kernelspec": {
   "display_name": "Python 3 (ipykernel)",
   "language": "python",
   "name": "python3"
  },
  "language_info": {
   "codemirror_mode": {
    "name": "ipython",
    "version": 3
   },
   "file_extension": ".py",
   "mimetype": "text/x-python",
   "name": "python",
   "nbconvert_exporter": "python",
   "pygments_lexer": "ipython3",
   "version": "3.9.7"
  }
 },
 "nbformat": 4,
 "nbformat_minor": 5
}
