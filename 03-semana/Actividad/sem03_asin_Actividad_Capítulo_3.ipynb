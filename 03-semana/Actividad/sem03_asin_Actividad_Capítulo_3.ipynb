{
 "cells": [
  {
   "cell_type": "markdown",
   "id": "5ad8356f",
   "metadata": {},
   "source": [
    "# Actividades Capítulo 3.\n",
    "\n",
    "\n",
    "# Concepto básico de programación e inicio en Python\n",
    "\n",
    "## Resumen de actividades\n",
    "\n",
    "\n",
    "- **Unidad 17.** Función\n",
    "- **Unidad 18.** Llamada a la función de recurrencia.\n",
    "- **Unidad 19.** Lambda\n",
    "- **Unidad 20.** Clausura\n",
    "- **Unidad 21.** Clase\n"
   ]
  },
  {
   "cell_type": "markdown",
   "id": "8c5aa9c8",
   "metadata": {},
   "source": [
    "# Actividad: Creacion de funciones.\n",
    "\n",
    "\n",
    "## Instrucciones\n",
    "\n",
    "1. Defina en forma breve el concepto de función.\n",
    "\n",
    "2. Crear una función para realizar la suma de los números impares en el rango de 0 a 100, dentro de la función imprima los valores sumados y al final retorne el resultado de la sumatoria.\n"
   ]
  },
  {
   "cell_type": "code",
   "execution_count": 7,
   "id": "90cd2e33",
   "metadata": {},
   "outputs": [
    {
     "name": "stdout",
     "output_type": "stream",
     "text": [
      "Números impares:\n",
      "1 3 5 7 9 11 13 15 17 19 21 23 25 27 29 31 33 35 37 39 41 43 45 47 49 51 53 55 57 59 61 63 65 67 69 71 73 75 77 79 81 83 85 87 89 91 93 95 97 99 \n",
      "El resultado de la sumatoria es: 2500\n"
     ]
    }
   ],
   "source": [
    "# Espacio para desarrollar el código requerido, recuerde agregar algunos\n",
    "# comentarios breves sobre su funcionamiento.\n",
    "\n",
    "def suma_impar():\n",
    "    sum = 0\n",
    "    print(\"Números impares:\")\n",
    "    for i in range(0, 101):\n",
    "        if i % 2 != 0:\n",
    "            sum += i\n",
    "            print(i, end=\" \")\n",
    "\n",
    "    print(f\"\\nEl resultado de la sumatoria es: {sum}\")\n",
    "\n",
    "suma_impar()"
   ]
  },
  {
   "cell_type": "markdown",
   "id": "a11871f3",
   "metadata": {},
   "source": [
    "# Actividad: Diseñe una función para codificar strings y otra para decodificar strings.\n",
    "\n",
    "1. Revise documentación relacionada a los procesos de encriptación, explique brevemente como funcionan.\n",
    "2. Ambas funciones deben tener como entrada un string y una ¨Clave\", la ¨Clave¨ será usada para codificar y decodificar.\n",
    "3. El desarrollo de está actividad esta abierto a multiples soluciones, por favor sea original en su respuesta.\n"
   ]
  },
  {
   "cell_type": "code",
   "execution_count": 8,
   "id": "1e7a5371",
   "metadata": {},
   "outputs": [
    {
     "name": "stdout",
     "output_type": "stream",
     "text": [
      "Texto cifrado: Krod ph oodpr udp\n"
     ]
    }
   ],
   "source": [
    "# Espacio para desarrollar la actividad, si tienes alguna duda o comentario adicional\n",
    "# lo puedes dejar planteado acá.\n",
    "import string\n",
    "\n",
    "def codificar(i, upper_str, encode_str):\n",
    "    if i in upper_str:\n",
    "        idx = upper_str.index(i)\n",
    "        return encode_str[idx]\n",
    "    return i\n",
    "\n",
    "upper_str = string.ascii_uppercase\n",
    "lower_str = string.ascii_lowercase\n",
    "encode_str = upper_str[3:] + upper_str[:3]\n",
    "encode_str_lower = lower_str[3:] + lower_str[:3]\n",
    "\n",
    "input_str = input('Introduzca una frase: ')\n",
    "encrypted_str = ''\n",
    "\n",
    "for ch in input_str:\n",
    "    if ch.isupper():\n",
    "        encrypted_str += codificar(ch, upper_str, encode_str)\n",
    "    elif ch.islower():\n",
    "        encrypted_str += codificar(ch, lower_str, encode_str_lower)\n",
    "    else:\n",
    "        encrypted_str += ch\n",
    "\n",
    "print('Texto cifrado:', encrypted_str)\n",
    "\n"
   ]
  },
  {
   "cell_type": "markdown",
   "id": "a207d974",
   "metadata": {},
   "source": [
    "\n",
    "# Actividad: Diseñe y codifique una función.\n",
    "\n",
    "1. Diseñe una función que revise el contenido de una carpeta, la mision de esta funcion es revisar todas las carpetas existentes y obtener los nombres de los archivos contenidos.\n",
    "2. Considere que dentro de cada carpete pueden existir otras carpetas.\n",
    "3. Todas las carpetas deben ser revisadas.\n",
    "4. Con la ejecucion de la siguiente celda se crearan las carpetas y los archivos.\n",
    "5. Es posible que debas considerar el uso de una función recursiva."
   ]
  },
  {
   "cell_type": "code",
   "execution_count": 8,
   "id": "b4ac1d5a",
   "metadata": {},
   "outputs": [
    {
     "name": "stdout",
     "output_type": "stream",
     "text": [
      "Carpeta_principal\n",
      "Carpeta_principal/folder_1\n",
      "Carpeta_principal/folder_6\n",
      "Carpeta_principal\\folder_1\n",
      "Carpeta_principal\\folder_1/folder_5\n",
      "Carpeta_principal\\folder_1/folder_6\n",
      "Carpeta_principal\\folder_1/folder_8\n",
      "Carpeta_principal\\folder_1/folder_9\n",
      "Carpeta_principal\\folder_1/folder_11\n",
      "Carpeta_principal\\folder_1\\folder_11\n",
      "Carpeta_principal\\folder_1\\folder_11/folder_0\n",
      "Carpeta_principal\\folder_1\\folder_11/folder_1\n",
      "Carpeta_principal\\folder_1\\folder_11/folder_9\n",
      "Carpeta_principal\\folder_1\\folder_11/folder_11\n",
      "Carpeta_principal\\folder_1\\folder_11\\folder_0\n",
      "Carpeta_principal\\folder_1\\folder_11\\folder_0/folder_1\n",
      "Carpeta_principal\\folder_1\\folder_11\\folder_0/folder_2\n",
      "Carpeta_principal\\folder_1\\folder_11\\folder_0/folder_3\n",
      "Carpeta_principal\\folder_1\\folder_11\\folder_0/folder_4\n",
      "Carpeta_principal\\folder_1\\folder_11\\folder_0/folder_7\n",
      "Carpeta_principal\\folder_1\\folder_11\\folder_0\\folder_1\n",
      "Carpeta_principal\\folder_1\\folder_11\\folder_0\\folder_2\n",
      "Carpeta_principal\\folder_1\\folder_11\\folder_0\\folder_3\n",
      "Carpeta_principal\\folder_1\\folder_11\\folder_0\\folder_4\n",
      "Carpeta_principal\\folder_1\\folder_11\\folder_0\\folder_7\n",
      "Carpeta_principal\\folder_1\\folder_11\\folder_1\n",
      "Carpeta_principal\\folder_1\\folder_11\\folder_11\n",
      "Carpeta_principal\\folder_1\\folder_11\\folder_9\n",
      "Carpeta_principal\\folder_1\\folder_5\n",
      "Carpeta_principal\\folder_1\\folder_6\n",
      "Carpeta_principal\\folder_1\\folder_8\n",
      "Carpeta_principal\\folder_1\\folder_9\n",
      "Carpeta_principal\\folder_6\n"
     ]
    }
   ],
   "source": [
    "import os\n",
    "import random\n",
    "\n",
    "def guardar_archivo(text_content, file_path):\n",
    "    with open(file_path, 'w') as file:\n",
    "        # Write the text content to the file\n",
    "        file.write(text_content)\n",
    "\n",
    "\n",
    "if os.path.exists(\"Carpeta_principal\"):\n",
    "    os.system(f'rm -r \"Carpeta_principal\"')\n",
    "\n",
    "os.mkdir(\"Carpeta_principal\")\n",
    "# Inicialización\n",
    "\n",
    "\n",
    "\n",
    "def crear_carpetas(ruta_actual):\n",
    "    global numeracion_del_archivo, numero_de_sub_carpetas\n",
    "    numero_de_archivos_o_carpetas = random.randint(0,15) # genración de numero aleatorio entre 0 y 15.\n",
    "    print(ruta_actual)\n",
    "    if numero_de_sub_carpetas < max_carpetas:\n",
    "        for n in range(0, numero_de_archivos_o_carpetas):\n",
    "\n",
    "            numero_aleatorio_2 = random.randint(0,2) # número aleatoria entre 0 y 1.\n",
    "            if numero_aleatorio_2 == 0:\n",
    "                os.mkdir(ruta_actual +'/'+ 'folder_{}'.format(n) )\n",
    "                print(ruta_actual +'/'+ 'folder_{}'.format(n))\n",
    "            else:\n",
    "                contenido_del_archivo = \"Contenido_{}\".format(numeracion_del_archivo)                \n",
    "                ruta_del_archivo = ruta_actual + '/' + \"archivo_{}.text\".format(numeracion_del_archivo)\n",
    "#                 print(\"ruta_del_archivo: \", ruta_del_archivo)\n",
    "                guardar_archivo(contenido_del_archivo, ruta_del_archivo)\n",
    "                numeracion_del_archivo += 1\n",
    "                \n",
    "        lista_de_nuevas_carpetas = [f.path for f in os.scandir(ruta_actual) if f.is_dir()] # Busqueda de nueva carpeta\n",
    "\n",
    "        numero_de_sub_carpetas += 1\n",
    "        for carpeta in lista_de_nuevas_carpetas:\n",
    "            crear_carpetas(carpeta)\n",
    "        \n",
    "max_carpetas = 4\n",
    "numeracion_del_archivo = 0\n",
    "numero_de_sub_carpetas = 0\n",
    "ruta_actual = \"Carpeta_principal\"\n",
    "crear_carpetas(ruta_actual)"
   ]
  },
  {
   "cell_type": "code",
   "execution_count": 1,
   "id": "a4f925a4",
   "metadata": {},
   "outputs": [
    {
     "name": "stdout",
     "output_type": "stream",
     "text": [
      "Archivo: archivo_0.text\n",
      "Archivo: archivo_1.text\n",
      "Archivo: archivo_2.text\n",
      "Archivo: archivo_3.text\n",
      "Archivo: archivo_4.text\n",
      "Carpeta_principal/folder_1\n",
      "Carpeta_principal/folder_6\n"
     ]
    }
   ],
   "source": [
    "# Celda para desarrollar \n",
    "\n",
    "import os\n",
    "\n",
    "# Creación de una función que revise las carpetas y obtenga nombres de archivos.\n",
    "    # 1. ¿Cómo obtengo acceso a una carpeta?\n",
    "def revision_carpetas(arch):\n",
    "    for archivo in arch:\n",
    "        ruta_completa = os.path.join(directorio, archivo)\n",
    "        if os.path.isfile(ruta_completa):\n",
    "            print(f\"Archivo: {archivo}\")\n",
    "        elif os.path.isdir(ruta_completa):\n",
    "            nuevo_dir = directorio+archivo\n",
    "            print(nuevo_dir)\n",
    "            \n",
    "directorio = \"Carpeta_principal/\"\n",
    "archivos = os.listdir(directorio)\n",
    "revision_carpetas(archivos) \n",
    "\n"
   ]
  },
  {
   "cell_type": "markdown",
   "id": "26a6bb9e",
   "metadata": {},
   "source": [
    "# Actividad: Crear diccionarios y guardarlos como archivo JSON.\n",
    "\n",
    "De la unidad 11 sección 4.6 revise el ejemplo mostrado.\n",
    "\n",
    "Genera un diccionario, sobre la información que deseas guardar como base de datos, desarrollo el código necesario para generar el archivo JSON, y también el código para cargar la información del archivo JSON.\n"
   ]
  },
  {
   "cell_type": "code",
   "execution_count": 12,
   "id": "6670eace",
   "metadata": {},
   "outputs": [],
   "source": [
    "# Espacio para desarrollar el código siguiendo las instrucciones.\n",
    "\n",
    "import json\n",
    "\n",
    "empleado = {\n",
    "    \"nombre\": \"Ricardo\",\n",
    "    \"apellido\": \"Sanchez\",\n",
    "    \"edad\": 30,\n",
    "    \"cargo\": \"Gerente de Ventas\",\n",
    "    \"ciudad\": \"Panama\"\n",
    "}\n",
    "\n",
    "# Guardar el diccionario como un archivo JSON\n",
    "with open('ejemplo.json', 'w') as archivo:\n",
    "    json.dump(empleado, archivo)\n",
    "\n"
   ]
  },
  {
   "cell_type": "markdown",
   "id": "fbfb4985",
   "metadata": {},
   "source": [
    "# Actividad: Uso de la funcion Lambda.\n",
    "\n",
    "## Instrucciones\n",
    "\n",
    "1. Escriba una función regular donde se realice una operación.\n",
    "2. Escriba la misma función donde use la expresión lambda.\n",
    "3. Explica brevemente las ventajas de usar la función Lambda.\n"
   ]
  },
  {
   "cell_type": "code",
   "execution_count": 15,
   "id": "fc5b1a43",
   "metadata": {},
   "outputs": [
    {
     "name": "stdout",
     "output_type": "stream",
     "text": [
      "La suma de los números primos es: 650\n",
      "La suma de los números primos es: 650\n"
     ]
    }
   ],
   "source": [
    "# Espacio para desarrollar el código siguiendo las instrucciones.\n",
    "\n",
    "# Función regular\n",
    "def suma_primos(a,b):\n",
    "    primos_suma = 0\n",
    "    for i in range(a,b+1):\n",
    "        if i % 2 == 0:\n",
    "            primos_suma += i\n",
    "    print(f\"La suma de los números primos es: {primos_suma}\")\n",
    "\n",
    "suma_primos(1,50)\n",
    "\n",
    "# Función lambda\n",
    "suma_primos_lambda = lambda a, b: sum(i for i in range(a, b+1) if i % 2 == 0)\n",
    "print(f\"La suma de los números primos es: {suma_primos_lambda(1,50)}\")\n",
    "\n",
    "'''\n",
    "Ventajas de usar la función lambda\n",
    "\n",
    "+ Las funciones lambda tienen una sintaxis más simple y concisa en comparación con las funciones regulares\n",
    "+ Las funciones lambda son más eficientes que las funciones regulares en términos de memoria y tiempo ejecución\n",
    "\n",
    "'''\n"
   ]
  },
  {
   "cell_type": "markdown",
   "id": "98938d2d",
   "metadata": {},
   "source": [
    "# Actividad: Usar la función map para duplicar el valor de cada uno de los elementos contenidos.\n",
    "\n",
    "## Instrucciones\n",
    "\n",
    "1. Describa brevemente el funcionamiento y las ventajas de usar la función map\n",
    "2. Escriba el código en el siguiente espacio."
   ]
  },
  {
   "cell_type": "code",
   "execution_count": 18,
   "id": "a35ef1b7",
   "metadata": {},
   "outputs": [
    {
     "name": "stdout",
     "output_type": "stream",
     "text": [
      "[2, 4, 6, 8, 10]\n"
     ]
    }
   ],
   "source": [
    "# Espacio para desarrollar el código.\n",
    "\n",
    "'''\n",
    "La función map en Python se utiliza para aplicar una función a cada elemento de un iterable (listas o diccionarios) \n",
    "y devuelve un objeto map que contiene los resultados.\n",
    "\n",
    "Ventajas: \n",
    "+ Permite expresar operaciones de transformación de manera más concisa y legible \n",
    "+ Puede llegar a ser más eficientes que los bucles for\n",
    "+ Es bastante funcional por que se integra bien con otras funciones de orden superior como el reduce y filter.\n",
    "\n",
    "'''\n",
    "\n",
    "# Lista de elementos\n",
    "numeros = [1, 2, 3, 4, 5]\n",
    "\n",
    "# Usar la función map para duplicar cada elemento de la lista\n",
    "resultado = list(map(lambda x: x*2, numeros))\n",
    "\n",
    "# Imprimir el resultado\n",
    "print(resultado)\n"
   ]
  }
 ],
 "metadata": {
  "kernelspec": {
   "display_name": "Python 3 (ipykernel)",
   "language": "python",
   "name": "python3"
  },
  "language_info": {
   "codemirror_mode": {
    "name": "ipython",
    "version": 3
   },
   "file_extension": ".py",
   "mimetype": "text/x-python",
   "name": "python",
   "nbconvert_exporter": "python",
   "pygments_lexer": "ipython3",
   "version": "3.9.7"
  }
 },
 "nbformat": 4,
 "nbformat_minor": 5
}
