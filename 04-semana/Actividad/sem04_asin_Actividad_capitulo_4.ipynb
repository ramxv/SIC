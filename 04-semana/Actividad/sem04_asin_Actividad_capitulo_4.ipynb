{
 "cells": [
  {
   "cell_type": "markdown",
   "id": "5d671b98",
   "metadata": {},
   "source": [
    "# Actividades Capítulo 4 - Estructuras de Datos\n",
    "\n",
    "Resumen de la actividad.\n",
    "\n",
    "\n",
    "- **1. Pilas y Colas**\n",
    "  - Actividad 1.2 - Implementar una Cola\n",
    "\n",
    "\n",
    "- **2. Búsqueda Secuencial**\n",
    "  - Actividad 2.1 - Búsqueda en una Lista\n",
    "\n",
    "\n",
    "- **3. Búsqueda Binaria**\n",
    "  - Actividad 3.1 - Búsqueda Binaria\n",
    "\n",
    "\n",
    "- **4. Tablas Hash**\n",
    "  - Actividad 4.1 - Implementar una Tabla Hash"
   ]
  },
  {
   "cell_type": "markdown",
   "id": "33866775",
   "metadata": {},
   "source": [
    "# Actividad: Implementación de una Pila en Python\n",
    "\n",
    "En esta actividad, tendrás la oportunidad de aplicar tus conocimientos sobre estructuras de datos y programación en Python para implementar una pila (stack). Una pila es una estructura de datos que sigue el principio \"Last-In-First-Out\" (LIFO), lo que significa que el último elemento que se agrega es el primero en ser eliminado.\n",
    "\n",
    "## Resumen:\n",
    "\n",
    "- **stack** = [ ]  # Recordando que una pila es básicamente una lista.\n",
    "- **append**: Método utilizado para agregar un elemento a la lista.\n",
    "- **pop**: Método usado para eliminar elementos de la lista, sino se especifica el índice se elimina el último elemento y retorna la lista resultante."
   ]
  },
  {
   "cell_type": "code",
   "execution_count": 40,
   "id": "fbb2dca1",
   "metadata": {},
   "outputs": [
    {
     "name": "stdout",
     "output_type": "stream",
     "text": [
      "{'a': ['Ana'], 'b': [], 'c': ['Carlos'], 'd': ['David'], 'e': ['Elena'], 'f': ['Fernando'], 'g': ['Gabriela'], 'h': ['Hugo'], 'i': ['Isabel'], 'j': ['Juan'], 'k': [], 'l': ['Luis', 'Lucía', 'Lorena'], 'm': ['Manuel', 'María', 'Miguel'], 'n': ['Natalia', 'Nicolás', 'Nora'], 'o': ['Olivia'], 'p': ['Pablo', 'Paula', 'Pedro'], 'q': [], 'r': ['Raquel', 'Rafael', 'Renata', 'Roberto', 'Rosario'], 's': ['Sara', 'Sergio', 'Silvia'], 't': ['Tomás', 'Teresa'], 'u': [], 'v': ['Víctor', 'Verónica'], 'w': [], 'x': ['Ximena', 'Xavier'], 'y': ['Yolanda', 'Yenny'], 'z': ['Zaira', 'Zoe', 'Zacarías']}\n"
     ]
    }
   ],
   "source": [
    "nombres_aleatorios = [\"Ana\", \"Carlos\", \"David\", \"Elena\", \"Fernando\", \"Gabriela\",\n",
    "                      \"Hugo\", \"Isabel\", \"Juan\", \"Luis\", \"Lucía\",\n",
    "                      \"Lorena\", \"Manuel\", \"María\", \"Miguel\", \"Natalia\",\n",
    "                      \"Nicolás\", \"Nora\", \"Óscar\", \"Olivia\", \"Pablo\", \"Paula\",\n",
    "                      \"Pedro\", \"Raquel\", \"Rafael\", \"Renata\", \"Roberto\", \"Rosario\",\n",
    "                      \"Sara\", \"Sergio\", \"Silvia\", \"Tomás\", \"Teresa\", \"Víctor\", \"Verónica\",\n",
    "                      \"Ximena\", \"Xavier\", \"Yolanda\", \"Yenny\", \"Zaira\", \"Zoe\", \"Zacarías\"]\n",
    "\n",
    "# Generar un código para revisar los nombres contenidos en la lista, y guardarlos en diferentes listas,\n",
    "# de acuerdo a la inicial del nombre, use los comandos usandos antenirmente y barra los elementos usando \n",
    "# el comando \"for nombre in nombres_aleatorios:\" al final del proceso la lista inicial debe quedar vacia.\n",
    "\n",
    "\n",
    "inicial_nombre = {chr(i): [] for i in range(97, 123)}\n",
    "\n",
    "for i_nombre in inicial_nombre:\n",
    "    pass\n",
    "\n",
    "for nombre in nombres_aleatorios:\n",
    "    inicial = nombre[0].lower()\n",
    "    if inicial in inicial_nombre:\n",
    "        inicial_nombre[inicial].append(nombre)\n",
    "\n",
    "nombres_aleatorios.clear()\n",
    "\n",
    "print(inicial_nombre)\n"
   ]
  },
  {
   "cell_type": "markdown",
   "id": "490f04a8",
   "metadata": {},
   "source": [
    "# Actividad: Replique el código, mostrado en la presentación 36 correspondiente al capítulo 4.\n",
    "\n",
    "En este codódigo se muestra la creación de una clasa para crear una pila y hacer las actividades básicas correspondientes.\n",
    "\n",
    "- **__init__**: Creación de la pila.\n",
    "- **is_empty**: Verificación si la pila está vacia.\n",
    "- **push**: agregar elemento a la pila\n",
    "- **pop**:si la pila no está vacia eliminar el último de elemento.\n",
    "\n",
    "Use la notación mostrada en la presentacion 40, realice varias operaciones y comente brevemente los resultados (máximo 3 lineas), antes de pasar a la siguiente actividad asegurese de entender completamente la notación utilizada."
   ]
  },
  {
   "cell_type": "code",
   "execution_count": 2,
   "id": "950d71ca",
   "metadata": {},
   "outputs": [
    {
     "name": "stdout",
     "output_type": "stream",
     "text": [
      "True\n",
      "False\n",
      "True\n"
     ]
    }
   ],
   "source": [
    "# Escriba su código en está celda y todos los comentarios necesarios en la misma celda.\n",
    "class Stack:\n",
    "\n",
    "    def __init__(self):\n",
    "        self.stack = []\n",
    "\n",
    "    def is_empty(self): # Verifica si la pila está vacía\n",
    "        return True if len(self.stack) == 0 else False \n",
    "    \n",
    "    def push(self, item): # Adjunta un elemento a la pila\n",
    "        self.stack.append(item)\n",
    "    \n",
    "    def pop(self, item): # Elimina el último elemento de la pila\n",
    "        return None if self.is_empty() else self.stack.pop(item)\n",
    "\n",
    "stack = Stack()\n",
    "\n",
    "print(stack.is_empty())\n",
    "stack.push(1)\n",
    "print(stack.is_empty())\n",
    "stack.pop(0)\n",
    "print(stack.is_empty())\n"
   ]
  },
  {
   "cell_type": "markdown",
   "id": "5f2fe9e8",
   "metadata": {},
   "source": [
    "# Actividad: Búsqueda secuencial.\n",
    "\n",
    "Se tiene una lista de 10 ciudades organizadas en función de la densidad de población, escriba una función para retornar la posición ocupada.\n"
   ]
  },
  {
   "cell_type": "code",
   "execution_count": 64,
   "id": "dec8954f",
   "metadata": {},
   "outputs": [
    {
     "name": "stdout",
     "output_type": "stream",
     "text": [
      "4\n"
     ]
    }
   ],
   "source": [
    "ciudades = [\n",
    "    \"Daca, Bangladés\",\n",
    "    \"Karachi, Pakistán\",\n",
    "    \"Nueva Delhi, India\",\n",
    "    \"Manila, Filipinas\",\n",
    "    \"Seúl, Corea del Sur\",\n",
    "    \"Cantón, China\",\n",
    "    \"Taipéi, Taiwán\",\n",
    "    \"Chenaral, Chile\",\n",
    "    \"Shenzhen, China\",\n",
    "    \"Bombay, India\"\n",
    "]\n",
    "\n",
    "def obtener_posicion(ciudades, ciudad):\n",
    "    # Espaciós para desarrollar el código\n",
    "    posicion = \"\"\n",
    "    for i in range(len(ciudades)):\n",
    "        c = ciudades[i]\n",
    "        if ciudad == c: \n",
    "            posicion = i\n",
    "            return posicion\n",
    "    return None\n",
    "    \n",
    "    \n",
    "    \n",
    "    \n",
    "\n",
    "posicion_ocupada = obtener_posicion(ciudades,\"Seúl, Corea del Sur\")\n",
    "print(posicion_ocupada)"
   ]
  },
  {
   "cell_type": "markdown",
   "id": "9fffd532",
   "metadata": {},
   "source": [
    "# Actividad: Búsqueda binaria.\n",
    "\n",
    "- Escriba al menos una ventaja de la busqueda binaria.\n",
    "- Replique el código mostrado en la presentación 192.\n",
    "- Explique brevemente el funcionamiento del código, maximo 3 lineas.\n",
    "- Ingrese un piso de ruptura del huevo y calcule cuantas veces se realiza la revisión para encontrar el piso seguro.(Se puede agrear algún contador dentro del código para verificar)\n"
   ]
  },
  {
   "cell_type": "code",
   "execution_count": 72,
   "id": "bdc866e2",
   "metadata": {},
   "outputs": [
    {
     "name": "stdout",
     "output_type": "stream",
     "text": [
      "La posición en la lista es: 9\n"
     ]
    }
   ],
   "source": [
    "# Espacio para replicar el código.\n",
    "def bin_search(nums, x): \n",
    "    low, high = 0, len(nums) - 1\n",
    "    while low <= high:\n",
    "        mid = (low + high) // 2\n",
    "        if nums[mid] == x:\n",
    "            return mid\n",
    "        elif nums[mid] > x:\n",
    "            high = mid - 1\n",
    "        else: \n",
    "            low = mid + 1\n",
    "    return -1\n",
    "\n",
    "nums_list = [1,2,3,4,5,6,7,8,9,15]\n",
    "x = 15\n",
    "print(\"La posición en la lista es:\",bin_search(nums_list, x))\n",
    "\n",
    "# Espacio para explicar funcionamiento.\n",
    "\n",
    "'''\n",
    "1. La función bin_search recibe como parámetros una lista de números ordenada y un valor x el cuál hay que buscar.\n",
    "\n",
    "2. Declaramos dos variables:\n",
    "    low y high.\n",
    "    low se le asigna 0. \n",
    "    high se le asigna el tamaño de la lista.\n",
    "\n",
    "3. Luego entramos al while loop siempre y cuando low sea menor o igual a high\n",
    "    3.1 Si es true la condición del while entramos al loop, de lo contrario returnamos -1.\n",
    "    3.2 Dentro del while declaramos la variable mid y le asignamos el valor de la mitad de la lista\n",
    "    3.3 Luego declaramos los condicionales para saber si encontramos o no el valor x\n",
    "        3.3.1 El primer if preguntamos si el valor en la posición media de la lista es igual a x, si es true devuelve el valor del medio\n",
    "            de lo contrario pasamos al elif\n",
    "        3.3.2 Aquí preguntamos si el valor en la posición media de la lista es mayor que x, si es así le asignamos a high el valor de mid \n",
    "            y le restamos 1\n",
    "        3.3.3 de lo contrario asignamos a low el valor de mid y le sumamos 1 \n",
    "\n",
    "'''\n",
    "\n",
    "# Cálculo y verificación del número de veces que se realiza la verificación.\n",
    "\n",
    "''' \n",
    "Para calcular el número de iteraciones en la búsqueda binaria, podemos utilizar la fórmula del logaritmo base 2 del tamaño de la lista: \n",
    "\n",
    " numero de iteraciones = log2(tamño de la lista)\n",
    "\n",
    " numero de iteraciones = log2(10)\n",
    "\n",
    " numero de iteraciones = 3.32\n",
    "'''\n"
   ]
  },
  {
   "cell_type": "markdown",
   "id": "eb266a1e",
   "metadata": {},
   "source": [
    "# Actividad: Definir una tabla Hash tipo diccionario.\n",
    "\n",
    "En la siguiente celda se muestrar como crear un diccionario, como agregar elementos, como eliminar elementos,\n",
    "como verificar si la key existe en el diccionario, basados en este código agregue otros elementos, comente los resultados, si tienes alguna duda también la puedes escribir. (Use máximo 3 líneas en la explicación)\n"
   ]
  },
  {
   "cell_type": "code",
   "execution_count": 3,
   "id": "f48163a5",
   "metadata": {},
   "outputs": [
    {
     "name": "stdout",
     "output_type": "stream",
     "text": [
      "Nombre: Juan\n",
      "Edad: 30\n",
      "Ciudad: Nueva York\n",
      "Profesión: Ingeniero de Software\n",
      "{'nombre': 'Juan', 'edad': 31, 'ciudad': 'Nueva York', 'profesion': 'Ingeniero de Software'}\n",
      "{'nombre': 'Juan', 'edad': 31, 'profesion': 'Ingeniero de Software'}\n",
      "La clave 'ciudad' no está en el diccionario.\n"
     ]
    }
   ],
   "source": [
    "# Crear un diccionario vacío\n",
    "mi_diccionario = {}\n",
    "\n",
    "# Agregar elementos al diccionario\n",
    "mi_diccionario[\"nombre\"] = \"Juan\"\n",
    "mi_diccionario[\"edad\"] = 30\n",
    "mi_diccionario[\"ciudad\"] = \"Nueva York\"\n",
    "mi_diccionario[\"profesion\"] = \"Ingeniero de Software\"\n",
    "\n",
    "# Acceder a los valores por clave\n",
    "print(\"Nombre:\", mi_diccionario[\"nombre\"])\n",
    "print(\"Edad:\", mi_diccionario[\"edad\"])\n",
    "print(\"Ciudad:\", mi_diccionario[\"ciudad\"])\n",
    "print(\"Profesión:\", mi_diccionario[\"profesion\"])\n",
    "\n",
    "# Modificar un valor existente\n",
    "mi_diccionario[\"edad\"] = 31\n",
    "print(mi_diccionario)\n",
    "\n",
    "# Eliminar un elemento del diccionario\n",
    "del mi_diccionario[\"ciudad\"]\n",
    "print(mi_diccionario)\n",
    "\n",
    "# Verificar si una clave existe en el diccionario\n",
    "if \"ciudad\" in mi_diccionario:\n",
    "    print(\"La clave 'ciudad' está en el diccionario.\")\n",
    "else:\n",
    "    print(\"La clave 'ciudad' no está en el diccionario.\")"
   ]
  }
 ],
 "metadata": {
  "kernelspec": {
   "display_name": "SIC-2024",
   "language": "python",
   "name": "python3"
  },
  "language_info": {
   "codemirror_mode": {
    "name": "ipython",
    "version": 3
   },
   "file_extension": ".py",
   "mimetype": "text/x-python",
   "name": "python",
   "nbconvert_exporter": "python",
   "pygments_lexer": "ipython3",
   "version": "3.9.7"
  }
 },
 "nbformat": 4,
 "nbformat_minor": 5
}
