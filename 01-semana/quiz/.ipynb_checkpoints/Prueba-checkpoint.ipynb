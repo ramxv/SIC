{
 "cells": [
  {
   "cell_type": "code",
   "execution_count": 7,
   "id": "a6f18677-b193-4ac1-9db9-e7b53de986b4",
   "metadata": {},
   "outputs": [
    {
     "name": "stdin",
     "output_type": "stream",
     "text": [
      "Ingrese el primer valor:  12\n",
      "Ingrese el segundo valor:  2\n"
     ]
    },
    {
     "name": "stdout",
     "output_type": "stream",
     "text": [
      "mayor = 12\n",
      "menor = 2\n"
     ]
    }
   ],
   "source": [
    "valor1 = input(\"Ingrese el primer valor: \")\n",
    "valor2 = input(\"Ingrese el segundo valor: \")\n",
    "\n",
    "valor_1_entero = int(valor1)\n",
    "valor_2_entero = int(valor2)\n",
    "\n",
    "if valor_1_entero != valor_2_entero:\n",
    "    if valor_1_entero > valor_2_entero:\n",
    "        print(\"mayor =\", valor_1_entero)\n",
    "        print(\"menor =\", valor_2_entero)\n",
    "    else:\n",
    "        print(\"mayor =\", valor_2_entero)\n",
    "        print(\"menor =\", valor_1_entero)\n",
    "else:\n",
    "    print(\"Debe ingresar valores distintos.\")\n"
   ]
  },
  {
   "cell_type": "code",
   "execution_count": 20,
   "id": "11c00394-763b-40b9-a40c-dde7efe6f341",
   "metadata": {},
   "outputs": [
    {
     "name": "stdout",
     "output_type": "stream",
     "text": [
      "¿Eres adulto?\n",
      "Ingresa 1 si eres adulto\n",
      "Ingresa 0 si eres menor de edad\n"
     ]
    },
    {
     "name": "stdin",
     "output_type": "stream",
     "text": [
      " 1\n"
     ]
    },
    {
     "name": "stdout",
     "output_type": "stream",
     "text": [
      "¿Estás Casado?\n",
      "Ingresa 1 si eres casado\n",
      "Ingresa 0 si eres soltero\n"
     ]
    },
    {
     "name": "stdin",
     "output_type": "stream",
     "text": [
      " 1\n"
     ]
    },
    {
     "name": "stdout",
     "output_type": "stream",
     "text": [
      "Usted es un adulto casado\n"
     ]
    }
   ],
   "source": [
    "print(\"¿Eres adulto?\")\n",
    "print(\"Ingresa 1 si eres adulto\")\n",
    "print(\"Ingresa 0 si eres menor de edad\")\n",
    "dato = int(input())\n",
    "\n",
    "if dato == 1:\n",
    "    print(\"¿Estás Casado?\")\n",
    "    print(\"Ingresa 1 si eres casado\")\n",
    "    print(\"Ingresa 0 si eres soltero\")\n",
    "    dato = int(input())\n",
    "    if dato == 1:\n",
    "        print(\"Usted es un adulto casado\")\n",
    "    elif dato == 0:\n",
    "        print(\"Usted es un adulto soltero\")\n",
    "    elif dato != 1 and dato != 0:\n",
    "        print(\"Datos invalidos\")\n",
    "elif dato == 0:\n",
    "    print(\"Usted es menor de edad\")\n",
    "elif dato != 1 and dato != 0:\n",
    "    print(\"Datos invalidos\")"
   ]
  },
  {
   "cell_type": "code",
   "execution_count": 27,
   "id": "af35abcf-6ced-432d-84f1-6a3a5a6e59d9",
   "metadata": {},
   "outputs": [
    {
     "name": "stdout",
     "output_type": "stream",
     "text": [
      "4: compuesto\n",
      "6: compuesto\n",
      "8: compuesto\n",
      "10: compuesto\n",
      "12: compuesto\n",
      "12: primo\n"
     ]
    }
   ],
   "source": [
    "for i in range(2,13):\n",
    "    for j in range(2,i):\n",
    "        if i % j == 0:\n",
    "            print(f\"{i}: compuesto\")\n",
    "        else:\n",
    "            print(f\"{i}: primo\")"
   ]
  }
 ],
 "metadata": {
  "kernelspec": {
   "display_name": "Python 3 (ipykernel)",
   "language": "python",
   "name": "python3"
  },
  "language_info": {
   "codemirror_mode": {
    "name": "ipython",
    "version": 3
   },
   "file_extension": ".py",
   "mimetype": "text/x-python",
   "name": "python",
   "nbconvert_exporter": "python",
   "pygments_lexer": "ipython3",
   "version": "3.9.7"
  }
 },
 "nbformat": 4,
 "nbformat_minor": 5
}
