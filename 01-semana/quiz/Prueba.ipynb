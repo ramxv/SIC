{
 "cells": [
  {
   "cell_type": "code",
   "execution_count": 7,
   "id": "a6f18677-b193-4ac1-9db9-e7b53de986b4",
   "metadata": {},
   "outputs": [
    {
     "name": "stdin",
     "output_type": "stream",
     "text": [
      "Ingrese el primer valor:  12\n",
      "Ingrese el segundo valor:  2\n"
     ]
    },
    {
     "name": "stdout",
     "output_type": "stream",
     "text": [
      "mayor = 12\n",
      "menor = 2\n"
     ]
    }
   ],
   "source": [
    "valor1 = input(\"Ingrese el primer valor: \")\n",
    "valor2 = input(\"Ingrese el segundo valor: \")\n",
    "\n",
    "valor_1_entero = int(valor1)\n",
    "valor_2_entero = int(valor2)\n",
    "\n",
    "if valor_1_entero != valor_2_entero:\n",
    "    if valor_1_entero > valor_2_entero:\n",
    "        print(\"mayor =\", valor_1_entero)\n",
    "        print(\"menor =\", valor_2_entero)\n",
    "    else:\n",
    "        print(\"mayor =\", valor_2_entero)\n",
    "        print(\"menor =\", valor_1_entero)\n",
    "else:\n",
    "    print(\"Debe ingresar valores distintos.\")\n"
   ]
  },
  {
   "cell_type": "code",
   "execution_count": 20,
   "id": "11c00394-763b-40b9-a40c-dde7efe6f341",
   "metadata": {},
   "outputs": [
    {
     "name": "stdout",
     "output_type": "stream",
     "text": [
      "¿Eres adulto?\n",
      "Ingresa 1 si eres adulto\n",
      "Ingresa 0 si eres menor de edad\n"
     ]
    },
    {
     "name": "stdin",
     "output_type": "stream",
     "text": [
      " 1\n"
     ]
    },
    {
     "name": "stdout",
     "output_type": "stream",
     "text": [
      "¿Estás Casado?\n",
      "Ingresa 1 si eres casado\n",
      "Ingresa 0 si eres soltero\n"
     ]
    },
    {
     "name": "stdin",
     "output_type": "stream",
     "text": [
      " 1\n"
     ]
    },
    {
     "name": "stdout",
     "output_type": "stream",
     "text": [
      "Usted es un adulto casado\n"
     ]
    }
   ],
   "source": [
    "print(\"¿Eres adulto?\")\n",
    "print(\"Ingresa 1 si eres adulto\")\n",
    "print(\"Ingresa 0 si eres menor de edad\")\n",
    "dato = int(input())\n",
    "\n",
    "if dato == 1:\n",
    "    print(\"¿Estás Casado?\")\n",
    "    print(\"Ingresa 1 si eres casado\")\n",
    "    print(\"Ingresa 0 si eres soltero\")\n",
    "    dato = int(input())\n",
    "    if dato == 1:\n",
    "        print(\"Usted es un adulto casado\")\n",
    "    elif dato == 0:\n",
    "        print(\"Usted es un adulto soltero\")\n",
    "    elif dato != 1 and dato != 0:\n",
    "        print(\"Datos invalidos\")\n",
    "elif dato == 0:\n",
    "    print(\"Usted es menor de edad\")\n",
    "elif dato != 1 and dato != 0:\n",
    "    print(\"Datos invalidos\")"
   ]
  },
  {
   "cell_type": "code",
   "execution_count": 39,
   "id": "af35abcf-6ced-432d-84f1-6a3a5a6e59d9",
   "metadata": {},
   "outputs": [
    {
     "name": "stdout",
     "output_type": "stream",
     "text": [
      "2: primo\n",
      "3: primo\n",
      "4: compuesto\n",
      "5: primo\n",
      "6: compuesto\n",
      "7: primo\n",
      "8: compuesto\n",
      "9: compuesto\n",
      "10: compuesto\n",
      "11: primo\n",
      "12: compuesto\n"
     ]
    }
   ],
   "source": [
    "for i in range(2,13):\n",
    "    compuesto = False\n",
    "    for j in range(2,i):\n",
    "        if i % j == 0:\n",
    "            compuesto = True\n",
    "            break\n",
    "    if compuesto:\n",
    "        print(f\"{i}: compuesto\")\n",
    "    else:\n",
    "        print(f\"{i}: primo\")"
   ]
  },
  {
   "cell_type": "code",
   "execution_count": 41,
   "id": "5232ae35-e99e-4020-9418-8f49be109769",
   "metadata": {},
   "outputs": [
    {
     "name": "stdout",
     "output_type": "stream",
     "text": [
      "153 es un número Armstrong\n",
      "370 es un número Armstrong\n",
      "371 es un número Armstrong\n",
      "407 es un número Armstrong\n"
     ]
    }
   ],
   "source": [
    "for numero in range(100, 1000):\n",
    "\n",
    "    numero_centena = numero // 100\n",
    "    numero_decena = (numero % 100)//10\n",
    "    numero_unidad = numero % 10\n",
    "\n",
    "    suma = numero_centena**3 + numero_decena**3 + numero_unidad**3\n",
    "    if suma == numero:\n",
    "        print(f\"{numero} es un número Armstrong\")"
   ]
  },
  {
   "cell_type": "code",
   "execution_count": 44,
   "id": "5a2cbf79-d117-445a-813f-825784e3ff4f",
   "metadata": {},
   "outputs": [
    {
     "ename": "TypeError",
     "evalue": "'int' object is not callable",
     "output_type": "error",
     "traceback": [
      "\u001b[1;31m---------------------------------------------------------------------------\u001b[0m",
      "\u001b[1;31mTypeError\u001b[0m                                 Traceback (most recent call last)",
      "Cell \u001b[1;32mIn[44], line 3\u001b[0m\n\u001b[0;32m      1\u001b[0m \u001b[38;5;28;01mfor\u001b[39;00m num_armstrong \u001b[38;5;129;01min\u001b[39;00m \u001b[38;5;28mrange\u001b[39m(\u001b[38;5;241m100\u001b[39m,\u001b[38;5;241m1000\u001b[39m):\n\u001b[0;32m      2\u001b[0m     num \u001b[38;5;241m=\u001b[39m \u001b[38;5;28mstr\u001b[39m(num_armstrong)\n\u001b[1;32m----> 3\u001b[0m     num_tamanio \u001b[38;5;241m=\u001b[39m \u001b[38;5;28;43mlen\u001b[39;49m\u001b[43m(\u001b[49m\u001b[43mnum\u001b[49m\u001b[43m)\u001b[49m\n\u001b[0;32m      4\u001b[0m     \u001b[38;5;28msum\u001b[39m \u001b[38;5;241m=\u001b[39m \u001b[38;5;241m0\u001b[39m\n\u001b[0;32m      5\u001b[0m     \u001b[38;5;28;01mfor\u001b[39;00m i \u001b[38;5;129;01min\u001b[39;00m num:\n",
      "\u001b[1;31mTypeError\u001b[0m: 'int' object is not callable"
     ]
    }
   ],
   "source": [
    "for num_armstrong in range(100,1000):\n",
    "    num = str(num_armstrong)\n",
    "    num_tamanio = len(num)\n",
    "    sum = 0\n",
    "    for i in num:\n",
    "        sum += int(i)**num_tamanio\n",
    "if sum == numero:\n",
    "    print(f\"{numero} es un número Armstrong\")"
   ]
  }
 ],
 "metadata": {
  "kernelspec": {
   "display_name": "Python 3 (ipykernel)",
   "language": "python",
   "name": "python3"
  },
  "language_info": {
   "codemirror_mode": {
    "name": "ipython",
    "version": 3
   },
   "file_extension": ".py",
   "mimetype": "text/x-python",
   "name": "python",
   "nbconvert_exporter": "python",
   "pygments_lexer": "ipython3",
   "version": "3.9.7"
  }
 },
 "nbformat": 4,
 "nbformat_minor": 5
}
