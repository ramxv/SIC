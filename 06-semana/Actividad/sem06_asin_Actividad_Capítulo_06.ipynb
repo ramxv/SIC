{
 "cells": [
  {
   "cell_type": "markdown",
   "id": "49909eb6",
   "metadata": {},
   "source": [
    "# Actividades Capítulo 6.\n",
    "\n",
    "\n",
    "# Algoritmos de clasificación.\n",
    "\n",
    "## Resumen de actividades\n",
    "\n",
    "- **Unidad 30.** Enfoque Greedy algoritmos voraces o ávidos.\n",
    "- **Unidad 31.** Divide y vencerás\n",
    "- **Unidad 32.** Programación dinámica\n",
    "- **Unidad 33.** Retroceso\n"
   ]
  },
  {
   "cell_type": "markdown",
   "id": "780f0fff",
   "metadata": {},
   "source": [
    "# Actividad: Algoritmos Greedy.\n",
    "\n",
    "\n",
    "## Instrucciones\n",
    "\n",
    "1. Explique brevemente y en forma clara qué es un algoritmo Greedy y como funciona..\n",
    "\n",
    "2. Enumera algunas ventajas.\n",
    "\n",
    "3. Enumera algunas desventajas.\n",
    "\n",
    "4. Escriba el código desarrollado con el enfoque Greeddy para el problema de cambio de monedas, haga diferentes pruebas cambian las entradas (recuerde que las entrada de este algoritmo son las monedas disponibles y la cantida que se desea cubrir, con estas entradas el algoritmo debe retornar la combinación de monedas que cubre el monto solicitado, minimizando la cantidad de monedas usadas)\n",
    "\n",
    "5. Ahora pruebe los resultados con siguientes entradas: monedas_disponibles = [11, 5, 1] para cubrer la cantidad de 15, observe los resultados, haga algunas analísis de lo que pasaria con esta combinación de entradas.\n"
   ]
  },
  {
   "cell_type": "markdown",
   "id": "2b03e128",
   "metadata": {},
   "source": [
    "### Explicación del algoritmo Greddy\n",
    "El algoritmo Greedy es un algoritmo sencillo e intuitivo que se utiliza en problemas de optimización. El algoritmo toma la decisión óptima en cada paso \n",
    "\n",
    "mientras intenta encontrar la forma óptima global de resolver el problema completo. Los algoritmos greedys tienen bastante éxito en algunos problemas,\n",
    "\n",
    "como la codificación Huffman, que se utiliza para comprimir datos, o el algoritmo de Dijkstra, que se utiliza para encontrar el camino más corto a \n",
    "\n",
    "través de un grafo.\n",
    "\n",
    "### Ventajas\n",
    "1. Es un algoritmo simple y fácil de implementar.\n",
    "2. Puede ser muy eficiente en términos de tiempo de ejecución, especialmente para problemas con conjuntos de datos pequeños o medianos.\n",
    "3. Puede proporcionar soluciones rápidas y aproximadas a problemas complejos.\n",
    "4. Es útil para problemas en los que se requiere una solución rápida y no es necesario encontrar la solución óptima.\n",
    "\n",
    "### Desventajas\n",
    "1. No siempre proporciona la solución óptima.\n",
    "2. Puede ser muy sensible a la elección de la función de evaluación o criterio de selección.\n",
    "3. Puede ser difícil de aplicar a problemas en los que se requiere una solución precisa y exacta.\n",
    "4. Puede ser propenso a errores si no se tiene en cuenta la complejidad del problema.\n"
   ]
  },
  {
   "cell_type": "code",
   "execution_count": 1,
   "id": "21a779a5",
   "metadata": {},
   "outputs": [
    {
     "name": "stdout",
     "output_type": "stream",
     "text": [
      "[11, 1, 1, 1, 1] 5\n"
     ]
    }
   ],
   "source": [
    "# Espacio disponible para desarrollar el código y agregar los comentarios necesarios.\n",
    "\n",
    "def cambio_moneda(monedas, cantidad) -> list:\n",
    "    cambio = []\n",
    "    maximo = 0\n",
    "    while cantidad > 0:\n",
    "        if cantidad < monedas[maximo]:\n",
    "            maximo += 1\n",
    "        else:\n",
    "            cambio.append(monedas[maximo])\n",
    "            cantidad -= monedas[maximo]\n",
    "    return cambio\n",
    "\n",
    "monedas = [11, 5, 1]\n",
    "cantidad = 15\n",
    "cambio = cambio_moneda(monedas, cantidad)\n",
    "print(cambio, len(cambio))\n"
   ]
  },
  {
   "cell_type": "markdown",
   "id": "89395b47",
   "metadata": {},
   "source": [
    "# Actividad: Replique el código de la búsqueda de la trayectoria triangular mínima.\n",
    "\n",
    "\n",
    "## Instrucciones\n",
    "\n",
    "\n",
    "1. Replique el código mostrado en la unidad 31.\n",
    "\n",
    "2. Analice el código replicado y agregue una explicíon sonbre su funcionamiento.\n",
    "\n",
    "3. Haga diferentes pruebas cambiando la entrada.\n"
   ]
  },
  {
   "cell_type": "code",
   "execution_count": 3,
   "id": "d446e273",
   "metadata": {},
   "outputs": [
    {
     "name": "stdout",
     "output_type": "stream",
     "text": [
      "The minimun cost is: 15\n"
     ]
    },
    {
     "data": {
      "text/plain": [
       "'\\nLa función utiliza la técnica de programación dinámica para encontrar el camino mínimo. \\nComienza verificando si la fila actual es la última fila del triángulo. \\nSi es así, devuelve 0, ya que no hay más filas para recorrer. De lo contrario, encuentra el camino mínimo desde la siguiente fila, \\nya sea moviéndose hacia abajo y a la izquierda o hacia abajo y a la derecha. \\nLuego, agrega el número actual en la posición (row, col) al camino mínimo encontrado y lo devuelve.\\n'"
      ]
     },
     "execution_count": 3,
     "metadata": {},
     "output_type": "execute_result"
    }
   ],
   "source": [
    "# Espacio para desarrollar el código y agregar los comentarios necesarios.\n",
    "\n",
    "def find_minimum(row, col, triangle):\n",
    "    if row == len(triangle):\n",
    "        return 0\n",
    "    else: \n",
    "        minimum = min(find_minimum(row + 1, col, triangle),\n",
    "                      find_minimum(row + 1, col + 1, triangle))\n",
    "        return triangle[row][col] + minimum\n",
    "\n",
    "triangle = [\n",
    "    [7],\n",
    "    [4, 4],\n",
    "    [5, 1, 7],\n",
    "    [4, 3, 8, 3]\n",
    "]\n",
    "\n",
    "minimun = find_minimum(0, 0, triangle)\n",
    "print(\"The minimun cost is:\", minimun)\n",
    "\n",
    "'''\n",
    "La función utiliza la técnica de programación dinámica para encontrar el camino mínimo. \n",
    "Comienza verificando si la fila actual es la última fila del triángulo. \n",
    "Si es así, devuelve 0, ya que no hay más filas para recorrer. De lo contrario, encuentra el camino mínimo desde la siguiente fila, \n",
    "ya sea moviéndose hacia abajo y a la izquierda o hacia abajo y a la derecha. \n",
    "Luego, agrega el número actual en la posición (row, col) al camino mínimo encontrado y lo devuelve.\n",
    "'''\n"
   ]
  },
  {
   "cell_type": "markdown",
   "id": "881569fc",
   "metadata": {},
   "source": [
    "# Actividad: Búsqueda binaria con iteración.\n",
    "\n",
    "\n",
    "## Instrucciones\n",
    "\n",
    "\n",
    "1. Replique el código mostrado en la unidad 31.\n",
    "\n",
    "2. Analice el código replicado y agregue una explicíon sonbre su funcionamiento.\n",
    "\n",
    "3. Explique por qué es necesario usar usar una función recursiva.\n",
    "\n",
    "4. Haga diferentes pruebas cambiando la entrada.\n"
   ]
  },
  {
   "cell_type": "code",
   "execution_count": 5,
   "id": "0b1f525d",
   "metadata": {},
   "outputs": [
    {
     "name": "stdout",
     "output_type": "stream",
     "text": [
      "El valor 53 se ecnuentra en la posición 6\n"
     ]
    },
    {
     "data": {
      "text/plain": [
       "'\\nLa función bin_search implementa una función de búsqueda binaria.\\nEsta función toma una lista ordenada \"nums\" y un elemento a buscar \"x\". \\nLuego, utiliza un enfoque iterativo para encontrar el elemento \"x\" en la lista\\ny devuelve su índice si se encuentra, de lo contrario devuelve -1. \\n'"
      ]
     },
     "execution_count": 5,
     "metadata": {},
     "output_type": "execute_result"
    }
   ],
   "source": [
    "# Espacio para desarrollar el código y agregar los comentarios necesarios.\n",
    "def bin_search(nums, x):\n",
    "    low, high = 0, len(nums) - 1  # Inicializa los índices bajo y alto\n",
    "    while low <= high:  # Mientras el índice bajo sea menor o igual al alto\n",
    "        mid = (low + high) // 2  # Calcula el índice medio\n",
    "        if nums[mid] == x:  # Si el elemento medio es igual a x, lo devuelve\n",
    "            return mid\n",
    "        elif nums[mid] > x:  # Si el elemento medio es mayor que x, ajusta el índice alto\n",
    "            high = mid - 1\n",
    "        else:  # Si el elemento medio es menor que x, ajusta el índice bajo\n",
    "            low = mid + 1\n",
    "    return -1  # Devuelve -1 si el elemento no se encuentra\n",
    "\n",
    "nums = [11, 17, 26, 28, 37, 45, 53, 59, 77]\n",
    "x = 53\n",
    "position = bin_search(nums, x)\n",
    "print(f\"El valor {x} se ecnuentra en la posición {position}\")\n",
    "\n",
    "'''\n",
    "La función bin_search implementa una función de búsqueda binaria.\n",
    "Esta función toma una lista ordenada \"nums\" y un elemento a buscar \"x\". \n",
    "Luego, utiliza un enfoque iterativo para encontrar el elemento \"x\" en la lista\n",
    "y devuelve su índice si se encuentra, de lo contrario devuelve -1. \n",
    "'''\n",
    "\n"
   ]
  },
  {
   "cell_type": "markdown",
   "id": "1087c522",
   "metadata": {},
   "source": [
    " Actividad: Comparación entre programación dinámica y la metodología divide y venceras.\n",
    "\n",
    "\n",
    "## Instrucciones\n",
    "\n",
    "\n",
    "1. Enumera las diferencias entre los dos efoques.\n",
    "\n",
    "2. Nombre algunos casos donde funcionam mejor la programación dinámica.\n",
    "\n",
    "3. Nombre ejemplos donde es suficiente usar el enfoque divide y venceras.\n",
    "\n",
    "\n",
    "\n",
    "**Espación para desarrollar la actividad:**\n",
    "\n",
    "\n",
    "\n",
    "\n",
    "\n",
    "\n",
    "\n",
    "\n",
    "\n",
    "\n"
   ]
  },
  {
   "cell_type": "markdown",
   "id": "7aacf433",
   "metadata": {},
   "source": [
    "### Diferencias entre programación dinámica y metodología divide y vencerás\n",
    "1. En la programación dinámica, se divide el problema en subproblemas más pequeños y se resuelven de manera recursiva, mientras que en la metodología \n",
    "\n",
    "divide y vencerás, se divide el problema en subproblemas más pequeños y se resuelven de manera independiente.\n",
    "\n",
    "2. En la programación dinámica, se utiliza la técnica de memoización para almacenar los resultados de los subproblemas y evitar tener que resolverlos \n",
    "\n",
    "nuevamente en el futuro. Por otro lado, en la metodología divide y vencerás, se combinan las soluciones de los subproblemas para obtener la solución \n",
    "\n",
    "del problema original.\n",
    "\n",
    "3. La programación dinámica se utiliza principalmente para problemas de optimización, mientras que la metodología divide y vencerás se utiliza para \n",
    "\n",
    "problemas de búsqueda y ordenación.\n",
    "\n",
    "4. En la programación dinámica, los subproblemas se solucionan de manera independiente, mientras que en la metodología divide y vencerás, los \n",
    "\n",
    "subproblemas se solucionan de manera recursiva y luego se combinan las soluciones.\n",
    "\n",
    "### Casos donde funciona mejor la programción dinámica\n",
    "1. Problemas de asignación de recursos, como el problema de la mochila y el problema del cambio de monedas.\n",
    "\n",
    "2. Planificación de recursos en organizaciones, como la asignación de personal o la gestión de inventarios.\n",
    "\n",
    "3. Diseño de algoritmos eficientes para problemas de búsqueda y ordenación.\n",
    "\n",
    "### Casos donde funcione mejor el enfoque divide y vencerás\n",
    "1. Búsqueda de elementos en arboles y grafos, como el problema de búsqueda binaria y el problema de caminos cortos.\n",
    "\n",
    "2. Ordenamiento de secuencias de datos, como el problema de ordenamiento por selección y el problema de ordenamiento por burbuja.\n",
    "\n",
    "3. Resolución de problemas de planificación y asistencia a decisiones, como el problema del viaje salesiano y el problema del cruce de puentes.\n"
   ]
  }
 ],
 "metadata": {
  "kernelspec": {
   "display_name": "Python 3 (ipykernel)",
   "language": "python",
   "name": "python3"
  },
  "language_info": {
   "codemirror_mode": {
    "name": "ipython",
    "version": 3
   },
   "file_extension": ".py",
   "mimetype": "text/x-python",
   "name": "python",
   "nbconvert_exporter": "python",
   "pygments_lexer": "ipython3",
   "version": "3.11.5"
  }
 },
 "nbformat": 4,
 "nbformat_minor": 5
}
