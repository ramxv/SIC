{
 "cells": [
  {
   "cell_type": "markdown",
   "id": "49909eb6",
   "metadata": {},
   "source": [
    "# Coding and Programming\n",
    "\n",
    "## Capítulo 6\n",
    "\n",
    "### Resolución de problemas con algoritmos\n",
    "\n",
    "- **Unidad 30.** Enfoque Greedy algoritmos voraces o ávidos.\n",
    "- **Unidad 31.** Divide y vencerás\n",
    "- **Unidad 32.** Programación dinámica\n",
    "- **Unidad 33.** Backtracking\n"
   ]
  },
  {
   "cell_type": "markdown",
   "id": "2e42031a",
   "metadata": {},
   "source": [
    "___"
   ]
  },
  {
   "cell_type": "markdown",
   "id": "780f0fff",
   "metadata": {},
   "source": [
    "## Q 30-01\n",
    "\n",
    "Este es el problema del intercambio de monedas.\n",
    "\n",
    "Tienes una moneda de 400 wones.\n",
    "\n",
    "Escriba el resultado de cómo el algoritmo `coin_change()` determina el cambio de la moneda de 800 wones.\n",
    "```\n",
    "coins  = [500, 400, 100, 50, 10]\n",
    "amount = int(input(\"Ingrese la cantidad: \"))\n",
    "changes= coin_change(coins, amount)\n",
    "print(changes, len(changes))\n",
    "\n",
    "Ingrese la cantidad: 800\n",
    "```"
   ]
  },
  {
   "cell_type": "markdown",
   "id": "8d0b8eb8",
   "metadata": {},
   "source": [
    "[500, 100, 100, 100] 4"
   ]
  },
  {
   "cell_type": "markdown",
   "id": "ca15d3cf",
   "metadata": {},
   "source": [
    "___"
   ]
  },
  {
   "cell_type": "markdown",
   "id": "89395b47",
   "metadata": {},
   "source": [
    "## Q 31-01\n",
    "\n",
    "Tienes 8 monedas idénticas numeradas del 1 al 8. De estas, solo una moneda es más pesada que la otra.\n",
    "\n",
    "Suponiendo que puede pesar monedas con una balanza equilibrada, diseñe un algoritmo que encuentre la moneda más pesada.\n",
    "\n",
    "En este momento, ¿cuántas veces se debe usar al menos la balanza?"
   ]
  },
  {
   "cell_type": "code",
   "execution_count": 3,
   "id": "db0a8869-47a2-439c-9cbc-9f5bd6328000",
   "metadata": {},
   "outputs": [
    {
     "name": "stdout",
     "output_type": "stream",
     "text": [
      "La moneda más pesada es la número: 2\n"
     ]
    }
   ],
   "source": [
    "def balanza(monedas, inicio, fin):\n",
    "    if inicio == fin:\n",
    "        return monedas[inicio]\n",
    "\n",
    "    if inicio + 1 == fin:\n",
    "        return max(monedas[inicio], monedas[fin])\n",
    "\n",
    "    mitad = (inicio + fin) // 2\n",
    "\n",
    "    peso_izquierda = sum(monedas[inicio:mitad + 1])\n",
    "    peso_derecha = sum(monedas[mitad + 1:fin + 1])\n",
    "\n",
    "    if peso_izquierda > peso_derecha:        \n",
    "        return balanza(monedas, inicio, mitad)\n",
    "    elif peso_izquierda < peso_derecha:   \n",
    "        return balanza(monedas, mitad + 1, fin)\n",
    "    else:\n",
    "        return max(balanza(monedas, inicio, mitad), \n",
    "                   balanza(monedas, mitad + 1, fin))\n",
    "\n",
    "monedas = [1, 1, 1, 1, 1, 1, 1, 2]\n",
    "print(\"La moneda más pesada es la número:\", balanza(monedas, 0, len(monedas) - 1))\n",
    "\n",
    "''' \n",
    " Cantidad de veces que se utiliza la balanza: \n",
    " \n",
    " La balanza se utiliza alrededor de 3 veces en este caso. Cada vez que se usa la balanza, se pesan dos grupos de monedas.\n",
    "'''\n"
   ]
  },
  {
   "cell_type": "markdown",
   "id": "9c37e736",
   "metadata": {},
   "source": [
    "___"
   ]
  },
  {
   "cell_type": "markdown",
   "id": "6f047403",
   "metadata": {},
   "source": [
    "## Q 31-02\n",
    "\n",
    "Hay nueve monedas idénticas numeradas del 1 al 9 en el problema anterior.\n",
    "\n",
    "Diseñe un algoritmo para encontrar una moneda pesada en este caso.\n",
    "\n",
    "En este momento, ¿cuántas veces se debe usar al menos la balanza?"
   ]
  },
  {
   "cell_type": "code",
   "execution_count": 4,
   "id": "d4c063ba",
   "metadata": {},
   "outputs": [
    {
     "name": "stdout",
     "output_type": "stream",
     "text": [
      "La moneda más pesada es la número: 2\n"
     ]
    }
   ],
   "source": [
    "def balanza2(monedas, inicio, fin):\n",
    "    if inicio == fin:\n",
    "        return monedas[inicio]\n",
    "\n",
    "    if inicio + 1 == fin:\n",
    "        return max(monedas[inicio], monedas[fin])\n",
    "\n",
    "    mitad = (inicio + fin) // 2\n",
    "\n",
    "    peso_izquierda = sum(monedas[inicio:mitad + 1])\n",
    "    peso_derecha = sum(monedas[mitad + 1:fin + 1])\n",
    "\n",
    "    if peso_izquierda > peso_derecha:        \n",
    "        return balanza2(monedas, inicio, mitad)\n",
    "    elif peso_izquierda < peso_derecha:   \n",
    "        return balanza2(monedas, mitad + 1, fin)\n",
    "    else:\n",
    "        return max(balanza2(monedas, inicio, mitad), \n",
    "                   balanza2(monedas, mitad + 1, fin))\n",
    "\n",
    "monedas = [1, 1, 1, 1, 1, 1, 1, 1, 2]\n",
    "print(\"La moneda más pesada es la número:\", balanza2(monedas, 0, len(monedas) - 1))\n",
    "\n",
    "''' \n",
    " Cantidad de veces que se utiliza la balanza: \n",
    " \n",
    " La balanza se utiliza alrededor de 3 veces en este caso. Cada vez que se usa la balanza, se pesan dos grupos de monedas.\n",
    "'''"
   ]
  },
  {
   "cell_type": "markdown",
   "id": "0453c475",
   "metadata": {},
   "source": [
    "___"
   ]
  },
  {
   "cell_type": "markdown",
   "id": "881569fc",
   "metadata": {},
   "source": [
    "## Q 32-01\n",
    "\n",
    "Analice el resultado de la ejecución del siguiente código y compárelo con el rendimiento de las funciones `fib1()`, `fib2()` y `fib3()`.\n",
    "```\n",
    "def fib4(n):\n",
    "    if n <= 1:\n",
    "        return n\n",
    "    else:\n",
    "        a,b = 0,1\n",
    "        for i in range(2, n + 1):\n",
    "            a,b = b,a+b\n",
    "        return b\n",
    "\n",
    "N = int(input(\"Ingrese un numero: \"))\n",
    "print(fib4(N))\n",
    "\n",
    "\n",
    "Ingrese un numero:\n",
    "```\n"
   ]
  },
  {
   "cell_type": "code",
   "execution_count": 8,
   "id": "8f6764e6-6ebf-42d7-844a-fc8296dcf5ed",
   "metadata": {},
   "outputs": [
    {
     "name": "stdout",
     "output_type": "stream",
     "text": [
      "55\n"
     ]
    }
   ],
   "source": [
    "def fib4(n):\n",
    "    if n <= 1:\n",
    "        return n\n",
    "    else:\n",
    "        a,b = 0,1\n",
    "        for i in range(2, n + 1):\n",
    "            a,b = b,a+b\n",
    "        return b\n",
    "\n",
    "def fib1(n):\n",
    "    if n == 0 or n == 1:\n",
    "        return n \n",
    "    else: \n",
    "        return fib1(n - 1) + fib1(n - 2)\n",
    "\n",
    "def fib2(n):\n",
    "    if n in F:\n",
    "        return F[n]\n",
    "    else:\n",
    "        F[n] = fib2(n - 1) + fib2(n - 2)\n",
    "        return F[n]\n",
    "    \n",
    "def fib3(F, n):\n",
    "    if n <= 1:\n",
    "        return F[n]\n",
    "    else:\n",
    "        if F[n] < 0:\n",
    "            F[n] = fib3(F, n - 1) + fib3(F, n - 2)\n",
    "        return F[n]\n",
    "\n",
    "N = int(input(\"Ingrese un numero: \"))\n",
    "# F = {0: 0, 1: 1}\n",
    "F = [0, 1] + [-1] * (N - 1)\n",
    "print(fib3(F,N))"
   ]
  },
  {
   "cell_type": "markdown",
   "id": "60d998bd",
   "metadata": {},
   "source": [
    "___"
   ]
  },
  {
   "cell_type": "markdown",
   "id": "1087c522",
   "metadata": {},
   "source": [
    "## Q 32-02\n",
    "\n",
    "Analice el resultado de la ejecución del siguiente código y compárelo con el rendimiento de las funciones `bin1()` y `bin2()`.\n",
    "```\n",
    "def bin3(n,k):\n",
    "    B = [0] * (n + 1)\n",
    "    for i in range(n + 1):\n",
    "        for j in range(n, -1, -1):\n",
    "            if j==0 or j==i:\n",
    "                B[j] = 1\n",
    "            else:\n",
    "                B[j] = B[j] B[j-1]\n",
    "    return B[k]\n",
    "\n",
    "\n",
    "for i in range(10):\n",
    "    for j in range(i+1):\n",
    "        print(bin3(i,j),end=\" \")\n",
    "    print()\n",
    "```"
   ]
  },
  {
   "cell_type": "code",
   "execution_count": 4,
   "id": "7fa685b5-dc9b-4537-870b-cb05e1d4dfd6",
   "metadata": {},
   "outputs": [
    {
     "name": "stdout",
     "output_type": "stream",
     "text": [
      "1 \n",
      "1 1 \n",
      "1 2 1 \n",
      "1 3 3 1 \n",
      "1 4 6 4 1 \n",
      "1 5 10 10 5 1 \n",
      "1 6 15 20 15 6 1 \n",
      "1 7 21 35 35 21 7 1 \n",
      "1 8 28 56 70 56 28 8 1 \n",
      "1 9 36 84 126 126 84 36 9 1 \n",
      "binomial(5, 3) es 10\n"
     ]
    }
   ],
   "source": [
    "def bin1(n, k):\n",
    "    if k == 0 or n == k:\n",
    "        return 1\n",
    "    else: \n",
    "        return bin1(n - 1, k - 1) + bin1(n - 1, k)\n",
    "\n",
    "def bin2(n, k):\n",
    "    B = [[0] * (n + 1) for _ in range(n + 1)]\n",
    "    for i in range(n + 1):\n",
    "        B[i][0] = 1\n",
    "        B[i][i] = 1\n",
    "    for i in range(1, n + 1):\n",
    "        for j in range(1, min(i, k) + 1):\n",
    "            B[i][j] = B[i-1][j-1] + B[i-1][j]\n",
    "    return B[n][k]\n",
    "\n",
    "def bin3(n,k):\n",
    "    B = [0] * (n + 1)\n",
    "    for i in range(n + 1):\n",
    "        for j in range(n, -1, -1):\n",
    "            if j==0 or j==i:\n",
    "                B[j] = 1\n",
    "            else:\n",
    "                B[j] = B[j] + B[j-1]\n",
    "    return B[k]\n",
    "\n",
    "\n",
    "for i in range(10):\n",
    "    for j in range(i+1):\n",
    "        print(bin3(i,j),end=\" \")\n",
    "    print()\n",
    "\n",
    "n = int(input(\"Ingrese el valor de n:\"))\n",
    "k = int(input(\"Ingrese el valor de k:\"))\n",
    "print(f\"binomial({n}, {k}) es {bin2(n, k)}\")"
   ]
  },
  {
   "cell_type": "markdown",
   "id": "7cef2a44",
   "metadata": {},
   "source": [
    "___"
   ]
  },
  {
   "attachments": {},
   "cell_type": "markdown",
   "id": "d36e67d4",
   "metadata": {},
   "source": [
    "## Q 33-01\n",
    "\n",
    "Resolver un cuadrado mágico 3x3 usando el backtracking\n",
    "\n",
    "**Código de referencia:**"
   ]
  },
  {
   "cell_type": "code",
   "execution_count": 7,
   "id": "13991ae0",
   "metadata": {},
   "outputs": [
    {
     "name": "stdout",
     "output_type": "stream",
     "text": [
      "0 0 0 \n",
      "0 0 8 \n",
      "5 6 1 \n"
     ]
    }
   ],
   "source": [
    "grid = [\n",
    "    [0,0,0],\n",
    "    [0,0,8],\n",
    "    [5,6,1]\n",
    "]\n",
    "\n",
    "print(grid[0][0])\n",
    "\n",
    "for i in range(0, len(grid)):\n",
    "    #print(grid[i])\n",
    "    for j in range(0, len(grid[i])):\n",
    "        print(grid[i][j], end=\" \")\n",
    "    print()"
   ]
  },
  {
   "cell_type": "markdown",
   "id": "d31d23cb",
   "metadata": {},
   "source": [
    "___"
   ]
  },
  {
   "cell_type": "markdown",
   "id": "c815e543",
   "metadata": {},
   "source": [
    "# Fin"
   ]
  }
 ],
 "metadata": {
  "kernelspec": {
   "display_name": "Python 3 (ipykernel)",
   "language": "python",
   "name": "python3"
  },
  "language_info": {
   "codemirror_mode": {
    "name": "ipython",
    "version": 3
   },
   "file_extension": ".py",
   "mimetype": "text/x-python",
   "name": "python",
   "nbconvert_exporter": "python",
   "pygments_lexer": "ipython3",
   "version": "3.9.7"
  }
 },
 "nbformat": 4,
 "nbformat_minor": 5
}
