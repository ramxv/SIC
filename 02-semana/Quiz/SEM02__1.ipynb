{
 "cells": [
  {
   "cell_type": "markdown",
   "id": "5ad8356f",
   "metadata": {},
   "source": [
    "# Coding and Programming\n",
    "\n",
    "## Capítulo 2\n",
    "\n",
    "### Programación básica de python - Secuencia de datos escrita en python\n",
    "\n",
    "- **Unidad 10.** Tipos de datos lista y tupla Tipos de datos lista y tupla\n",
    "- **Unidad 11.** Tipos de datos de diccionario Tipos de datos de diccionario\n",
    "- **Unidad 12.** Tipos de datos de secuencia\n",
    "- **Unidad 13.** Listas 2D\n",
    "- **Unidad 14.** Método del diccionario-1\n",
    "- **Unidad 15.** Método del diccionario-2\n",
    "- **Unidad 16.** Establecer tipos de datos\n",
    "\n",
    "# Quiz 2"
   ]
  },
  {
   "cell_type": "markdown",
   "id": "d390681d",
   "metadata": {},
   "source": [
    "___"
   ]
  },
  {
   "cell_type": "markdown",
   "id": "8c5aa9c8",
   "metadata": {},
   "source": [
    "## Q 10-01\n",
    "\n",
    "Si hay dos listas `l1` y `l2` con las siguientes cadenas, use la combinación de `l1` y `l2` para imprimir de la siguiente manera.\n",
    "\n",
    "**Pauta de codificación:** use bucles anidados e imprímalos.\n",
    "\n",
    "```\n",
    "l1 = ['I like','I love']\n",
    "l1 = ['pancake.','kiwi juice.','espresso.']\n",
    "```\n",
    "\n",
    "### Output\n",
    "```\n",
    "I like pancake.\n",
    "I like kiwi juice.\n",
    "I like espresso.\n",
    "I love pancake.\n",
    "I love kiwi juice.\n",
    "I love espresso.\n",
    "```"
   ]
  },
  {
   "cell_type": "code",
   "execution_count": 12,
   "id": "76b8fe6c-9e1a-4313-8330-06b05c8b3c30",
   "metadata": {},
   "outputs": [
    {
     "name": "stdout",
     "output_type": "stream",
     "text": [
      "I like pancake.\n",
      "I like kiwi juice.\n",
      "I like espresso.\n",
      "I love pancake.\n",
      "I love kiwi juice.\n",
      "I love espresso.\n"
     ]
    }
   ],
   "source": [
    "l1 = ['I like','I love']\n",
    "l2 = ['pancake.','kiwi juice.','espresso.']\n",
    "for i in range(len(l1)):\n",
    "    for j in range(len(l2)):\n",
    "        print(l1[i],l2[j])"
   ]
  },
  {
   "cell_type": "markdown",
   "id": "e85ac74a",
   "metadata": {},
   "source": [
    "___"
   ]
  },
  {
   "cell_type": "markdown",
   "id": "56dfda7c",
   "metadata": {},
   "source": [
    "## Q 11-01\n",
    "\n",
    "El diccionario de personas se define de la siguiente manera.\n",
    "\n",
    "Agregue un nuevo elemento a este diccionario de personas con la clave 'Padre' y el valor 'John Doe'.\n",
    "\n",
    "**Pauta de codificación:** después de definir el diccionario de personas, escriba el código para agregar nuevos elementos.\n",
    "\n",
    "`person = {'Name':'David Doe', 'Age':26, 'Weight':82, 'Job':'Data Scientist'}`"
   ]
  },
  {
   "cell_type": "code",
   "execution_count": 18,
   "id": "e81d3322-d142-47dd-a441-33badce848e7",
   "metadata": {},
   "outputs": [
    {
     "name": "stdout",
     "output_type": "stream",
     "text": [
      "{'Name': 'David Doe', 'Age': 26, 'Weight': 82, 'Job': 'Data Scientist', 'Padre': 'John Doe'}\n"
     ]
    }
   ],
   "source": [
    "persona = {'Name':'David Doe', 'Age':26, 'Weight':82, 'Job':'Data Scientist'}\n",
    "# Código para añadir un nuevo elemento en el diccionario\n",
    "persona.update(Padre = 'John Doe')\n",
    "print(persona)"
   ]
  },
  {
   "cell_type": "markdown",
   "id": "d24e8e2d",
   "metadata": {},
   "source": [
    "___"
   ]
  },
  {
   "cell_type": "markdown",
   "id": "6e95c374",
   "metadata": {},
   "source": [
    "## Q 12-01\n",
    "\n",
    "Al usar datos de tupla, los valores de dos variables se pueden intercambiar sin usar una variable temporal. Usando este método de intercambio, escriba un programa que reemplace el valor más grande de 12 en la lista dada, y pase a la posición del último.\n",
    "\n",
    "**Pauta de codificación:** use un bucle `for`. Al intercambiar valores en una lista, no se deben usar variables adicionales como temp.\n",
    "\n",
    "`lista = [5,6,3,9,2,12,3,8,7]`"
   ]
  },
  {
   "cell_type": "code",
   "execution_count": 85,
   "id": "df614c4a-1384-430b-945f-ac73bef478d9",
   "metadata": {},
   "outputs": [
    {
     "name": "stdout",
     "output_type": "stream",
     "text": [
      "5 6 3 9 2 7 3 8 12 "
     ]
    }
   ],
   "source": [
    "lista = [5,6,3,9,2,12,3,8,7]\n",
    "lista_len = len(lista) - 1\n",
    "for i in range(len(lista)):\n",
    "    if lista[i] == 12:\n",
    "        lista[i], lista[lista_len] =  lista[lista_len], lista[i]\n",
    "    print(lista[i], end=\" \")"
   ]
  },
  {
   "cell_type": "markdown",
   "id": "66002865",
   "metadata": {},
   "source": [
    "___"
   ]
  },
  {
   "cell_type": "markdown",
   "id": "abff5088",
   "metadata": {},
   "source": [
    "## Q 13-01\n",
    "\n",
    "La matriz bidimensional `a` contiene los valores `[[1, 2], [3, 4], [5, 6]]`.\n",
    "\n",
    "Cambie esta matriz bidimensional a una matriz unidimensional como `[1, 2, 3, 4, 5, 6]` e imprímala.\n",
    "\n",
    "\n",
    "**Pauta de codificación:** use un bucle `for`. Defina una nueva matriz y coloque los elementos de a en esta matriz."
   ]
  },
  {
   "cell_type": "code",
   "execution_count": 92,
   "id": "18c8727a-9c02-4dc4-a203-193060516dd8",
   "metadata": {},
   "outputs": [
    {
     "name": "stdout",
     "output_type": "stream",
     "text": [
      "[1, 2, 3, 4, 5, 6]\n"
     ]
    }
   ],
   "source": [
    "a = [[1,2],[3,4], [5,6]]\n",
    "b = []\n",
    "for i in range(len(a)):\n",
    "    b.extend(a[i])\n",
    "print(b)"
   ]
  },
  {
   "cell_type": "markdown",
   "id": "1061ef6e",
   "metadata": {},
   "source": [
    "___"
   ]
  },
  {
   "cell_type": "markdown",
   "id": "74144e33",
   "metadata": {},
   "source": [
    "## Q 14-01\n",
    "\n",
    "Dada un diccionario en la variable **maria** que contiene las puntuaciones de los cursos 'coreano', 'inglés', 'matemáticas' y 'ciencia', se almacenan como clave:valor. Imprima el puntaje promedio para los puntajes de las asignaturas de maría.\n",
    "\n",
    "**Guía de codificación:** Utilice los métodos de diccionario **values()** y **len()** funciones.\n",
    "\n",
    "`maria = { 'korean':94, 'english':91, 'maths':89, 'science':83 }`"
   ]
  },
  {
   "cell_type": "code",
   "execution_count": 97,
   "id": "1a25f95e-da37-48bc-b0d5-f590a72f0ac2",
   "metadata": {},
   "outputs": [
    {
     "name": "stdout",
     "output_type": "stream",
     "text": [
      "El puntaje promedio de Maria es: 89.25\n"
     ]
    }
   ],
   "source": [
    "maria = { 'korean':94, 'english':91, 'maths':89, 'science':83 }\n",
    "# Método len()\n",
    "total = len(maria)\n",
    "# Método values()\n",
    "promedio = sum(maria.values()) / total\n",
    "print(f\"El puntaje promedio de Maria es: {promedio}\")"
   ]
  },
  {
   "cell_type": "markdown",
   "id": "a43a9094",
   "metadata": {},
   "source": [
    "___"
   ]
  },
  {
   "cell_type": "markdown",
   "id": "3bf0a55c",
   "metadata": {},
   "source": [
    "## Q 15-01\n",
    "\n",
    "Declare una variable `school` con un diccionario anidado de la siguiente manera.\n",
    "\n",
    "```\n",
    "school = {\n",
    "    'kim':{ 'age':16, 'hei':170, grade:3 },\n",
    "    'lee':{ 'age':15, 'hei':165, grade:2 },\n",
    "    'cho':{ 'age':14, 'hei':167, grade:1 },\n",
    "}\n",
    "```\n",
    "\n",
    "\n",
    "Luego, use la función `deepcopy()` del módulo de copia para escribir un programa que 'copie' a otra variable, `school2`. (Verifique que `school` y `school2` sean variables diferentes a través del operador `is`).\n",
    "\n",
    "**Pauta de codificación:** Imprima el resultado de `school is school2`, que debe ser falso."
   ]
  },
  {
   "cell_type": "code",
   "execution_count": 99,
   "id": "3f85fd77-c960-47a9-bf48-1a4c2c3189b8",
   "metadata": {},
   "outputs": [
    {
     "name": "stdout",
     "output_type": "stream",
     "text": [
      "False\n"
     ]
    }
   ],
   "source": [
    "import copy\n",
    "school = {\n",
    "    'kim':{ 'age':16, 'hei':170, 'grade':3 },\n",
    "    'lee':{ 'age':15, 'hei':165, 'grade':2 },\n",
    "    'cho':{ 'age':14, 'hei':167, 'grade':1 },\n",
    "}\n",
    "school2 = copy.deepcopy(school)\n",
    "\n",
    "print(school is school2)\n"
   ]
  },
  {
   "cell_type": "markdown",
   "id": "77fe3368",
   "metadata": {},
   "source": [
    "___"
   ]
  },
  {
   "cell_type": "markdown",
   "id": "caeada5b",
   "metadata": {},
   "source": [
    "## Q 16-01\n",
    "\n",
    "Hay una tupla de puntuaciones de la siguiente manera.\n",
    "\n",
    "```\n",
    "scores = (\n",
    "    ('DongKyu Park' , 88, 95, 90),\n",
    "    ('YoungMin Kang', 85, 90, 95),\n",
    "    ('DongMin Park' , 70, 90, 80),\n",
    "    ('Seungloo Hong', 90, 90, 95),\n",
    ")\n",
    "```\n",
    "\n",
    "\n",
    "Esta tupla contiene información sobre cuatro estudiantes.\n",
    "\n",
    "En esta información, el nombre del estudiante y las calificaciones en inglés, matemáticas y ciencias forman una tupla.\n",
    "\n",
    "Por ejemplo, 'David Doe' tiene un puntaje de inglés de 88, un puntaje de matemáticas de 95 y un puntaje de ciencias de 90.\n",
    "\n",
    "Extraiga solo puntajes matemáticos desempaquetando usando la función zip en la tupla del puntaje. Escriba un código que calcule el promedio de estos puntajes matemáticos extraídos.\n",
    "\n",
    "**Pauta de código:** use la función **zip** para resolver el problema"
   ]
  },
  {
   "cell_type": "code",
   "execution_count": 150,
   "id": "43c9a5bf-7fef-48a8-9241-ab9e3bd18617",
   "metadata": {},
   "outputs": [
    {
     "name": "stdout",
     "output_type": "stream",
     "text": [
      "(95, 90, 90, 90)\n",
      "(95, 90, 90, 90)\n",
      "El puntaje promedio de matemáticas es: 91.25\n"
     ]
    }
   ],
   "source": [
    "scores = (\n",
    "    ('DongKyu Park' , 88, 95, 90),\n",
    "    ('YoungMin Kang', 85, 90, 95),\n",
    "    ('DongMin Park' , 70, 90, 80),\n",
    "    ('Seungloo Hong', 90, 90, 95),\n",
    ")\n",
    "\n",
    "puntajes = list(zip(*scores))[2]\n",
    "promedio = sum(puntajes) / len(puntajes)\n",
    "print( f\"El puntaje promedio de matemáticas es: {promedio}\")\n"
   ]
  },
  {
   "cell_type": "markdown",
   "id": "5f26e5d1",
   "metadata": {},
   "source": [
    "___"
   ]
  },
  {
   "cell_type": "markdown",
   "id": "ed04e881",
   "metadata": {},
   "source": [
    "## Fin"
   ]
  }
 ],
 "metadata": {
  "kernelspec": {
   "display_name": "Python 3 (ipykernel)",
   "language": "python",
   "name": "python3"
  },
  "language_info": {
   "codemirror_mode": {
    "name": "ipython",
    "version": 3
   },
   "file_extension": ".py",
   "mimetype": "text/x-python",
   "name": "python",
   "nbconvert_exporter": "python",
   "pygments_lexer": "ipython3",
   "version": "3.9.7"
  }
 },
 "nbformat": 4,
 "nbformat_minor": 5
}
