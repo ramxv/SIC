{
 "cells": [
  {
   "cell_type": "markdown",
   "id": "5ad8356f",
   "metadata": {},
   "source": [
    "# Actividades Capítulo 2.\n",
    "\n",
    "\n",
    "# Concepto básico de programación e inicio en Python\n",
    "\n",
    "## Resumen de actividades\n",
    "\n",
    "- **Unidad 10.** Tipos de datos lista y tupla Tipos de datos lista y tupla\n",
    "- **Unidad 11.** Tipos de datos de diccionario Tipos de datos de diccionario\n",
    "- **Unidad 12.** Tipos de datos de secuencia\n",
    "- **Unidad 13.** Listas 2D\n",
    "- **Unidad 14.** Método del diccionario-1\n",
    "- **Unidad 15.** Método del diccionario-2\n",
    "- **Unidad 16.** Establecer tipos de datos\n"
   ]
  },
  {
   "cell_type": "markdown",
   "id": "8c5aa9c8",
   "metadata": {},
   "source": [
    "# Actividad: Creación de una Base de Datos en Python\n",
    "\n",
    "## Descripción\n",
    "\n",
    "A continuación debes crear una base de datos simple utilizando listas en Python. Una base de datos es una colección de datos organizados que se utilizan para almacenar y recuperar información. En este caso, simularemos una base de datos de estudiantes con información básica.\n",
    "\n",
    "## Instrucciones\n",
    "\n",
    "1. Crea un programa en Python que permita a los usuarios realizar las siguientes acciones:\n",
    "\n",
    "   a. Agregar un nuevo estudiante a la base de datos. Cada estudiante debe tener al menos un nombre, un número de identificación y una edad. Puedes utilizar una lista para almacenar estos datos.\n",
    "\n",
    "   b. Mostrar la lista de estudiantes en la base de datos.\n",
    "\n",
    "   c. Buscar un estudiante por su número de identificación y mostrar su información.\n",
    "\n",
    "   d. Actualizar la información de un estudiante existente en la base de datos.\n",
    "\n",
    "   e. Eliminar un estudiante de la base de datos.\n",
    "\n",
    "2. Utiliza listas de Python para almacenar la información de los estudiantes. Por ejemplo, puedes crear una lista de diccionarios, donde cada diccionario representa un estudiante con sus datos.\n",
    "\n",
    "3. Ofrece un menú interactivo que permita a los usuarios elegir las acciones que desean realizar en la base de datos.\n",
    "\n",
    "4. Implementa la lógica necesaria para cada acción, como agregar, buscar, actualizar o eliminar estudiantes.\n",
    "\n",
    "## Ejemplo de Base de Datos\n",
    "\n",
    "A continuación, se muestra un ejemplo de cómo podría verse una base de datos de estudiantes utilizando listas y diccionarios:\n",
    "\n",
    "```python\n",
    "base_de_datos = [\n",
    "    {\"nombre\": \"Juan\", \"id\": 1, \"edad\": 20},\n",
    "    {\"nombre\": \"María\", \"id\": 2, \"edad\": 22},\n",
    "    {\"nombre\": \"Carlos\", \"id\": 3, \"edad\": 21}\n",
    "]\n",
    "\n",
    "Desarrolle el código en la siguiente lista."
   ]
  },
  {
   "cell_type": "code",
   "execution_count": 40,
   "id": "90cd2e33",
   "metadata": {
    "tags": []
   },
   "outputs": [
    {
     "name": "stdout",
     "output_type": "stream",
     "text": [
      "##### Base de datos Estudiantes #####\n",
      "1. Agregar Estudiante\n",
      "2. Mostrar Estudiante\n",
      "3. Buscar Estudiante\n",
      "4. Actualizar Estudiante\n",
      "5. Eliminar Estudiante\n",
      "6. Salir\n"
     ]
    },
    {
     "name": "stdin",
     "output_type": "stream",
     "text": [
      "Seleccione los cambios que desea relizar ingresando el número correspondiente:  7\n"
     ]
    },
    {
     "name": "stdout",
     "output_type": "stream",
     "text": [
      "Por favor, seleccione una opción válida.\n",
      "##### Base de datos Estudiantes #####\n",
      "1. Agregar Estudiante\n",
      "2. Mostrar Estudiante\n",
      "3. Buscar Estudiante\n",
      "4. Actualizar Estudiante\n",
      "5. Eliminar Estudiante\n",
      "6. Salir\n"
     ]
    },
    {
     "name": "stdin",
     "output_type": "stream",
     "text": [
      "Seleccione los cambios que desea relizar ingresando el número correspondiente:  6\n"
     ]
    },
    {
     "name": "stdout",
     "output_type": "stream",
     "text": [
      "Saliendo...\n"
     ]
    }
   ],
   "source": [
    "#Recuerde agregar comentarios donde se describa el funcionamiento de las diferentes secciones.\n",
    "\n",
    "base_de_datos = [\n",
    "    {\"nombre\": \"Juan\", \"id\": 1, \"edad\": 20},\n",
    "    {\"nombre\": \"María\", \"id\": 2, \"edad\": 22},\n",
    "    {\"nombre\": \"Carlos\", \"id\": 3, \"edad\": 21},\n",
    "]\n",
    "\n",
    "while True:\n",
    "    \n",
    "    print(\"#\"*5,\"Base de datos Estudiantes\",\"#\"*5)\n",
    "    print(\"1. Agregar Estudiante\") \n",
    "    print(\"2. Mostrar Estudiante\") \n",
    "    print(\"3. Buscar Estudiante\") \n",
    "    print(\"4. Actualizar Estudiante\")\n",
    "    print(\"5. Eliminar Estudiante\")\n",
    "    print(\"6. Salir\")\n",
    "    \n",
    "    opcion = int(input(\"Seleccione los cambios que desea relizar ingresando el número correspondiente: \"))\n",
    "    \n",
    "    if opcion == 1:\n",
    "        nombre = input(\"Ingrese su nombre: \")\n",
    "        id_estudiante = input(\"Ingrese su id: \")\n",
    "        edad = input(\"Ingrese su edad: \")\n",
    "        nuevo_estudiante = {\"nombre\":nombre, \"id\":id_estudiante, \"edad\":edad}\n",
    "        base_de_datos.append(nuevo_estudiante)\n",
    "        print(\"Estudiante agregado con éxito.\")\n",
    "    \n",
    "    elif opcion == 2:\n",
    "        for i in range(len(base_de_datos)):\n",
    "            print(base_de_datos[i],\"\\n\")\n",
    "    \n",
    "    elif opcion == 3:\n",
    "        id_buscar = int(input(\"Ingrese el ID del estudiante a buscar: \"))\n",
    "        for estudiante in base_de_datos:\n",
    "            if estudiante[\"id\"] == id_buscar:\n",
    "                print(f\"Nombre: {estudiante['nombre']}, ID: {estudiante['id']}, Edad: {estudiante['edad']}\")\n",
    "                break\n",
    "            else:\n",
    "                print(\"Estudiante no encontrado.\")\n",
    "    \n",
    "    elif opcion == 4:\n",
    "        id_actualizar = int(input(\"Ingrese el ID del estudiante a actualizar: \"))\n",
    "        for i, estudiante in enumerate(base_de_datos):\n",
    "            if estudiante[\"id\"] == id_actualizar:\n",
    "                nueva_informacion = input(\"Ingrese la nueva información del estudiante: \")\n",
    "                base_de_datos[i].update(nueva_informacion)\n",
    "                print(\"Información actualizada con éxito.\")\n",
    "                break\n",
    "            else:\n",
    "                print(\"Estudiante no encontrado.\")\n",
    "    \n",
    "    elif opcion == 5:\n",
    "        id_eliminar = int(input(\"Ingrese el ID del estudiante a eliminar: \"))\n",
    "        for i, estudiante in enumerate(base_de_datos):\n",
    "            if estudiante[\"id\"] == id_eliminar:\n",
    "                del base_de_datos[i]\n",
    "                print(\"Estudiante eliminado con éxito.\")\n",
    "                break\n",
    "            else:\n",
    "                print(\"Estudiante no encontrado.\")\n",
    "    \n",
    "    elif opcion == 6:\n",
    "        print(\"Saliendo...\")\n",
    "        break\n",
    "    else:\n",
    "        print(\"Por favor, seleccione una opción válida.\")"
   ]
  },
  {
   "cell_type": "markdown",
   "id": "a11871f3",
   "metadata": {},
   "source": [
    "# Actividad: Rebanado de listas.\n",
    "\n",
    "Revisa la unidad 10,sección 5.3 aparece un resumen de los comandos para tomar secciones de una lista, aplica los comandos en la siguiente lista:\n",
    "\n",
    "\n",
    "list_notas = [15, 21, 24, 40, 13, 14, 18, 17, 14.5]\n",
    "\n"
   ]
  },
  {
   "cell_type": "code",
   "execution_count": 26,
   "id": "1e7a5371",
   "metadata": {},
   "outputs": [
    {
     "name": "stdout",
     "output_type": "stream",
     "text": [
      "9\n",
      "[15, 24, 13, 18, 14.5]\n",
      "[21, 24, 40, 13]\n",
      "[21, 24, 40, 13, 14, 18, 17, 14.5]\n",
      "[15, 21, 24, 40]\n",
      "[15, 21, 24, 40, 13, 14, 18, 17, 14.5]\n",
      "[21, 13, 17]\n",
      "[17, 14.5]\n",
      "[15, 21, 24, 40, 13, 14, 18]\n",
      "[14.5, 13, 15]\n",
      "[21, 15]\n"
     ]
    }
   ],
   "source": [
    "# Espacio para desarrollar las pruebas, si tienes alguna duda o comentario adicional\n",
    "# lo puedes dejar planteado acá.\n",
    "\n",
    "list_notas = [15, 21, 24, 40, 13, 14, 18, 17, 14.5]\n",
    "print(len(list_notas))\n",
    "print(list_notas[::2])\n",
    "print(list_notas[1:5])\n",
    "print(list_notas[1:])\n",
    "print(list_notas[:4])\n",
    "print(list_notas[:])\n",
    "print(list_notas[1:9:3])\n",
    "print(list_notas[-2:])\n",
    "print(list_notas[:-2])\n",
    "print(list_notas[::-4])\n",
    "print(list_notas[1::-1])"
   ]
  },
  {
   "cell_type": "markdown",
   "id": "a207d974",
   "metadata": {},
   "source": [
    "\n",
    "# Actividad: Diferentes métodos usados en listas.\n",
    "\n",
    "De la unidad 10, sección 6.3 revise los métodos disponibles para usar sobre las listas.\n",
    "\n",
    "Aplique los métodos disponibles sobre la lista mostrada en la siguiente celda. \n",
    "\n",
    "Nota: usando el método **sort()** ordene de mayor a menor y viceversa (Si es necesario revise documentación adicional relacionada sobre este método)\n"
   ]
  },
  {
   "cell_type": "code",
   "execution_count": 34,
   "id": "b4ac1d5a",
   "metadata": {},
   "outputs": [
    {
     "name": "stdout",
     "output_type": "stream",
     "text": [
      "Función len\n",
      "10\n",
      "\n",
      "Método índice\n",
      "24\n",
      "\n",
      "Método append\n",
      "[15, 21, 24, 40, 13, 14, 18, 13, 17, 14.5, 22.5]\n",
      "\n",
      "Método count\n",
      "2\n",
      "\n",
      "Método extend\n",
      "[15, 21, 24, 40, 13, 14, 18, 13, 17, 14.5, 22.5, 1, 2, 3, 4, 5, 6]\n",
      "\n",
      "Método insertar\n",
      "[15, 21, 24, 15, 40, 13, 14, 18, 13, 17, 14.5, 22.5, 1, 2, 3, 4, 5, 6]\n",
      "\n",
      "Método eliminar\n",
      "[15, 21, 24, 15, 40, 14, 18, 13, 17, 14.5, 22.5, 1, 2, 3, 4, 5, 6]\n",
      "\n",
      "Método pop\n",
      "6\n",
      "\n",
      "Método sort\n",
      "[1, 2, 3, 4, 5, 13, 14, 14.5, 15, 15, 17, 18, 21, 22.5, 24, 40]\n",
      "\n",
      "Método sort inverso\n",
      "[40, 24, 22.5, 21, 18, 17, 15, 15, 14.5, 14, 13, 5, 4, 3, 2, 1]\n",
      "\n",
      "Método sort inverso con slice\n",
      "[40, 24, 22.5, 21, 18, 17, 15, 15, 14.5, 14, 13, 5, 4, 3, 2, 1]\n"
     ]
    }
   ],
   "source": [
    "# Aplique los métodos disponibles y agregue comentarios breves sobre su funcinamiento.\n",
    "\n",
    "list_notas = [15, 21, 24, 40, 13, 14, 18, 13, 17, 14.5]\n",
    "list_notas_2 = [1, 2, 3, 4, 5, 6]\n",
    "\n",
    "# Espacio para desarrollo del código y comentarios.\n",
    "print(\"Función len\")\n",
    "print(len(list_notas))\n",
    "\n",
    "print(\"\\nMétodo índice\")\n",
    "print(list_notas[2])\n",
    "\n",
    "print(\"\\nMétodo append\")\n",
    "list_notas.append(22.5)\n",
    "print(list_notas)\n",
    "\n",
    "print(\"\\nMétodo count\")\n",
    "print(list_notas.count(13))\n",
    "\n",
    "print(\"\\nMétodo extend\")\n",
    "list_notas.extend(list_notas_2)\n",
    "print(list_notas)\n",
    "\n",
    "print(\"\\nMétodo insertar\")\n",
    "list_notas.insert(3,15)\n",
    "print(list_notas)\n",
    "\n",
    "# Para utilizar el método remove, el elemento a eliminar debe existir en la lista.\n",
    "print(\"\\nMétodo eliminar\")\n",
    "list_notas.remove(13)\n",
    "print(list_notas)\n",
    "\n",
    "# Si no especifica un índice elimina el último elemento de la lista\n",
    "print(\"\\nMétodo pop\")\n",
    "print(list_notas.pop())\n",
    "\n",
    "print(\"\\nMétodo sort\")\n",
    "list_notas.sort()\n",
    "print(list_notas)\n",
    "\n",
    "print(\"\\nMétodo sort inverso\")\n",
    "list_notas.sort(reverse=True)\n",
    "print(list_notas)\n",
    "\n",
    "print(\"\\nMétodo sort inverso con slice\")\n",
    "list_notas[::-1]\n",
    "print(list_notas)"
   ]
  },
  {
   "cell_type": "markdown",
   "id": "26a6bb9e",
   "metadata": {},
   "source": [
    "# Actividad: Crear diccionarios y guardarlos como archivo JSON.\n",
    "\n",
    "De la unidad 11 sección 4.6 revise el ejemplo mostrado.\n",
    "\n",
    "Genera un diccionario, sobre la información que deseas guardar como base de datos, desarrollo el código necesario para generar el archivo JSON, y también el código para cargar la información del archivo JSON.\n"
   ]
  },
  {
   "cell_type": "code",
   "execution_count": 4,
   "id": "6670eace",
   "metadata": {},
   "outputs": [],
   "source": [
    "# Espacio para desarrollar el código.\n",
    "import json\n",
    "\n",
    "data = '{\"producto\":\"cafe\", \"precio\": 5.99, \"codigo\":1}'\n",
    "json_data = json.loads(data)\n",
    "\n",
    "with open('productos.json','w') as f:\n",
    "    json.dump(json_data,f,indent='\\t')"
   ]
  },
  {
   "cell_type": "markdown",
   "id": "fbfb4985",
   "metadata": {},
   "source": [
    "# Actividad: Creación y manejo de tuplas.\n",
    "\n",
    "## Instrucciones\n",
    "\n",
    "1. Escriba una diferencia entre las tuplas y las listas.\n",
    "2. Crear una tupla con varios elementos.\n",
    "3. Usar el operador in para verificar si la tuple contiene determinado elemento.\n"
   ]
  },
  {
   "cell_type": "code",
   "execution_count": 14,
   "id": "fc5b1a43",
   "metadata": {},
   "outputs": [
    {
     "name": "stdout",
     "output_type": "stream",
     "text": [
      "False\n",
      "True\n"
     ]
    }
   ],
   "source": [
    "# Espacio para desarrollar el código siguiendo las instrucciones.\n",
    "'''\n",
    "Diferencia entre tuplas y listas.\n",
    "\n",
    "Para mi la diferencia más importante que tienen las tuplas frente a las listas es que son inmutables, \n",
    "es decir, una vez declarada la tupla los elementos dentro de ella no pueden ser modificados. En cambio\n",
    "las listas si pueden ser modificadas, porque es un tipo de dato mutable.\n",
    "'''\n",
    "tup = (1, 2, 3, 4, 5)\n",
    "# Creación de una tupla con varios elementos\n",
    "mi_tupla = (0, 1, 1, 2, 3, 5, 8)\n",
    "# Utilización del operador in.\n",
    "print(4 in mi_tupla)\n",
    "print(2 in mi_tupla)"
   ]
  },
  {
   "cell_type": "markdown",
   "id": "98938d2d",
   "metadata": {},
   "source": [
    "# Actividad: Revisión y manejo de listas bidimensionales.\n",
    "\n",
    "## Instrucciones\n",
    "\n",
    "1. Describa brevemente que entiende por lista bidimensional.\n",
    "2. Crear una lista bidimensional.\n",
    "3. Generar un doble loop para acceder de la lista bidimensional\n",
    "4. Sumar todo los elementos de esta lista bidimensional."
   ]
  },
  {
   "cell_type": "code",
   "execution_count": 45,
   "id": "a35ef1b7",
   "metadata": {},
   "outputs": [
    {
     "name": "stdout",
     "output_type": "stream",
     "text": [
      "45\n"
     ]
    }
   ],
   "source": [
    "# Espacio para desarrollar el código, escriba comentarias breves para explicar su funcionamiento.\n",
    "\n",
    "\n",
    "# 1. Una lista bidimensional es una matriz o tabla con filas y columnas\n",
    "\n",
    "# 2. Creación de una matriz bidimensional\n",
    "lista_bidi = [[1,2,3],[4,5,6],[7,8,9]]\n",
    "total_elementos = 0\n",
    "\n",
    "# 3. Generacion de doble loop para acceder a lista bidimensional.\n",
    "for fila in range(len(lista_bidi)):\n",
    "    for col in range(len(lista_bidi[fila])):\n",
    "        total_elementos += lista_bidi[fila][col]\n",
    "print(total_elementos)"
   ]
  },
  {
   "cell_type": "markdown",
   "id": "4261fa65",
   "metadata": {},
   "source": [
    "# Actividad: Revision de los métodos usados en el manejo de diccionarios.\n",
    "\n",
    "## Instrucciones\n",
    "\n",
    "1. Crear un diccionario.\n",
    "2. Testear los siguientes métodos para el majeo de diccionarios get(), keys(), values(), items(), pop(), clear()\n",
    "3. Agregar un breve comentario sobre su funcionamiento."
   ]
  },
  {
   "cell_type": "code",
   "execution_count": 57,
   "id": "2f5887bb",
   "metadata": {},
   "outputs": [
    {
     "data": {
      "text/plain": [
       "1"
      ]
     },
     "execution_count": 57,
     "metadata": {},
     "output_type": "execute_result"
    }
   ],
   "source": [
    "# Espacio para desarrollar el código.\n",
    "# 1. Crear diccionario \n",
    "dic = {\"producto\":\"cafe\", \"precio\": 5.99, \"codigo\":1}\n",
    "# 2. Testeo de Métodos\n",
    "dic.get(\"producto\") # Este método recibe la key y retorna el valor. En caso de que no encuetre la key no retorna nada.\n",
    "dic.keys() # No recibe argumentos y devuelve todas las keys que existen en el diccionario.\n",
    "dic.values() # No recibe argumentos y devuelve todos los valores del diccionario.\n",
    "dic.items()  # No recibe argumentos y devuelve el par [clave]:[valor]\n",
    "dic.pop(\"codigo\") # Si recibe un argumento, elimina la key especificada y devuelve su valor.\n"
   ]
  }
 ],
 "metadata": {
  "kernelspec": {
   "display_name": "Python 3 (ipykernel)",
   "language": "python",
   "name": "python3"
  },
  "language_info": {
   "codemirror_mode": {
    "name": "ipython",
    "version": 3
   },
   "file_extension": ".py",
   "mimetype": "text/x-python",
   "name": "python",
   "nbconvert_exporter": "python",
   "pygments_lexer": "ipython3",
   "version": "3.9.7"
  }
 },
 "nbformat": 4,
 "nbformat_minor": 5
}
