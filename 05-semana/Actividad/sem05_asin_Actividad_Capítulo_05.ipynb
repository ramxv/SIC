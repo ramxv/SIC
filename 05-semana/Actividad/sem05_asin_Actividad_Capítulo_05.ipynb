{
 "cells": [
  {
   "cell_type": "markdown",
   "id": "5ad8356f",
   "metadata": {},
   "source": [
    "# Actividades Capítulo 5.\n",
    "\n",
    "\n",
    "# Algoritmos de clasificación.\n",
    "\n",
    "## Resumen de actividades\n",
    "\n",
    "\n",
    "- **Unidad 27.** Ordenamiento de burbuja, (Bubble Sort) algoritmo de ordenamiento, selección e inserción\n",
    "- **Unidad 28.** Ordenar por selección, ordenamiento por inserción.\n",
    "- **Unidad 29.** Clasificación rápida\n"
   ]
  },
  {
   "cell_type": "markdown",
   "id": "8c5aa9c8",
   "metadata": {},
   "source": [
    "# Actividad: Ordenamiento de Burbuja\n",
    "\n",
    "\n",
    "## Instrucciones\n",
    "\n",
    "1. Explique brevemente y en forma clara cómo funciona el algoritmo de ordenamiento de burbuja.\n",
    "\n",
    "2. Desarrollo un función donde se use el ordenamiento de burbuja aplicada a una lista de valores enteros.\n",
    "\n"
   ]
  },
  {
   "cell_type": "code",
   "execution_count": 8,
   "id": "90cd2e33",
   "metadata": {},
   "outputs": [
    {
     "name": "stdout",
     "output_type": "stream",
     "text": [
      "[1, 3, 7, 4, 1, 2, 9, 10]\n",
      "[1, 3, 4, 1, 2, 7, 9, 10]\n",
      "[1, 3, 1, 2, 4, 7, 9, 10]\n",
      "[1, 1, 2, 3, 4, 7, 9, 10]\n",
      "[1, 1, 2, 3, 4, 7, 9, 10]\n",
      "[1, 1, 2, 3, 4, 7, 9, 10]\n",
      "[1, 1, 2, 3, 4, 7, 9, 10]\n",
      "[1, 1, 2, 3, 4, 7, 9, 10]\n",
      "\n",
      "Lista ordenada: [1, 1, 2, 3, 4, 7, 9, 10]\n"
     ]
    }
   ],
   "source": [
    "# Espacio para desarrollar el código requerido, recuerde agregar algunos\n",
    "def bubble_sort(nums):\n",
    "    for i in range(len(nums)):\n",
    "        print(nums)\n",
    "        for j in range(len(nums)-1):\n",
    "            if nums[j] > nums[j + 1]:\n",
    "                nums[j], nums[j + 1] = nums[j + 1], nums[j]\n",
    "\n",
    "bubble_list = [1,3,7,4,1,2,9,10]\n",
    "bubble_sort(bubble_list)\n",
    "print(f\"\\nLista ordenada: {bubble_list}\")\n",
    "\n",
    "# comentarios breves sobre su funcionamiento.\n",
    "\n"
   ]
  },
  {
   "cell_type": "markdown",
   "id": "a11871f3",
   "metadata": {},
   "source": [
    "# Actividad: Función Swap.\n",
    "\n",
    "1. Escriba una función que permita el intercambion de elementos en una lista.\n",
    "2. Los argumentos de esta función serán, la lista y los indices de los elementos que se desean intercambiar.\n",
    "3. En la siguiente celda desarrollo el código requerido, recuerde agregar comentarias breves que expliquen su funcionamiento.\n"
   ]
  },
  {
   "cell_type": "code",
   "execution_count": 3,
   "id": "1e7a5371",
   "metadata": {},
   "outputs": [
    {
     "name": "stdout",
     "output_type": "stream",
     "text": [
      "\n",
      "Antes del Swap: [15, 20]\n",
      "\n",
      "Swap CON variable auxiliar: [20, 15]\n",
      "\n",
      "Swap SIN variable auxiliar: [20, 15]\n"
     ]
    }
   ],
   "source": [
    "# Espacio para desarrollar la actividad, si tienes alguna duda o comentario adicional\n",
    "# lo puedes dejar planteado acá.\n",
    "\n",
    "def swap(n_list, i, j):\n",
    "    temp = n_list[i]\n",
    "    n_list[i] = n_list[j]\n",
    "    n_list[j] = temp\n",
    "\n",
    "def swap2(n_list, i, j):\n",
    "    n_list[i], n_list[j] = n_list[i], n_list[j]\n",
    "\n",
    "s_list = [15,20]\n",
    "print(f\"\\nAntes del Swap: {s_list}\")\n",
    "swap(s_list, 0, 1)\n",
    "print(f\"\\nSwap CON variable auxiliar: {s_list}\")\n",
    "swap2(s_list, 0, 1)\n",
    "print(f\"\\nSwap SIN variable auxiliar: {s_list}\")\n",
    "\n"
   ]
  },
  {
   "cell_type": "markdown",
   "id": "a207d974",
   "metadata": {},
   "source": [
    "\n",
    "# Actividad: \n",
    "\n",
    "1. Explique brevemente el funcionamiento del algoritmo Quick Sort.\n",
    "2. Desarrollo el código para implementar el algoritmo Quick Sort.\n",
    "3. Revise las unidad 29, sección 1.1"
   ]
  },
  {
   "cell_type": "code",
   "execution_count": 3,
   "id": "a4f925a4",
   "metadata": {},
   "outputs": [
    {
     "name": "stdout",
     "output_type": "stream",
     "text": [
      "[15, 10, 12, 20, 25, 13, 22]\n",
      "[15, 10, 12, 20, 25, 13, 22]\n",
      "[15, 10, 12, 13, 25, 20, 22]\n",
      "[13, 10, 12, 15, 25, 20, 22]\n",
      "[13, 10, 12, 15, 25, 20, 22]\n",
      "[12, 10, 13, 15, 25, 20, 22]\n",
      "[12, 10, 13, 15, 25, 20, 22]\n",
      "[10, 12, 13, 15, 25, 20, 22]\n",
      "[10, 12, 13, 15, 25, 20, 22]\n",
      "[10, 12, 13, 15, 22, 20, 25]\n",
      "[10, 12, 13, 15, 22, 20, 25]\n",
      "[10, 12, 13, 15, 20, 22, 25]\n"
     ]
    }
   ],
   "source": [
    "# Celda para desarrollar \n",
    "'''\n",
    "Explicación del funcionamiento: \n",
    "\n",
    "El funcionamiento del algoritmo QuickSort está basado en la técnica \n",
    "divide y vencéras. El algoritmo funciona seleccionando un elemento\n",
    "de la lista como pivote y luego reorganizando los elementos en tres\n",
    "sublistas: aquellos que son menores o iguales al pivote, aquellos \n",
    "mayores al pivote, y aquellos iguales al pivote.\n",
    "El algoritmo se implementa recursivamente, dividienndo la lista en sublistas\n",
    "hasta que cada sublista contenga solo un elemento. Luego, se ordenan las sublistas\n",
    "y se combinan para obtener la lista completamente ordenada.\n",
    "'''\n",
    "\n",
    "# Desarrollo\n",
    "\n",
    "def partition(S, low, high):\n",
    "    pivot = S[low]\n",
    "    left, right = low + 1, high\n",
    "    while left <= right:\n",
    "        print(S)\n",
    "        while left <= right and S[left] <= pivot:\n",
    "            left += 1\n",
    "        while left <= right and S[right] >= pivot:\n",
    "            right -= 1\n",
    "        if left < right:\n",
    "            S[left], S[right] = S[right], S[left]\n",
    "    pivotpoint = right\n",
    "    S[low], S[pivotpoint] = S[pivotpoint], S[low]\n",
    "    return pivotpoint\n",
    "\n",
    "def quicksort(S, low, high):\n",
    "    if low < high:\n",
    "        print(S)\n",
    "        pivotpoint = partition(S, low, high)\n",
    "        quicksort(S, low, pivotpoint - 1)\n",
    "        quicksort(S, pivotpoint + 1, high)\n",
    "\n",
    "S = [15, 10, 12, 20, 25, 13, 22]\n",
    "quicksort(S, 0, len(S) - 1)\n",
    "print(S)\n"
   ]
  },
  {
   "cell_type": "markdown",
   "id": "26a6bb9e",
   "metadata": {},
   "source": [
    "# Actividad: Quick Sort usando un valor de pivote aleatorio.\n",
    "\n",
    "1. Explique brevemente el funcionamiento del algoritmo Quick Sort en la modaladidad de usar un valor de pivote aleatorio.\n",
    "2. Comente las ventajas de esta variación.\n",
    "3. Desarrollo el código necesarion para este algoritmo.\n",
    "4. Agregue comentarios sobre su funcionamiento.\n",
    "\n"
   ]
  },
  {
   "cell_type": "code",
   "execution_count": 4,
   "id": "6670eace",
   "metadata": {},
   "outputs": [
    {
     "name": "stdout",
     "output_type": "stream",
     "text": [
      "[15, 10, 12, 20, 25, 13, 22]\n",
      "[15, 10, 12, 20, 25, 13, 22]\n",
      "[15, 10, 12, 13, 25, 20, 22]\n",
      "[13, 10, 12, 15, 25, 20, 22]\n",
      "[13, 10, 12, 15, 25, 20, 22]\n",
      "[12, 10, 13, 15, 25, 20, 22]\n",
      "[12, 10, 13, 15, 25, 20, 22]\n",
      "[10, 12, 13, 15, 25, 20, 22]\n",
      "[10, 12, 13, 15, 25, 20, 22]\n",
      "[10, 12, 13, 15, 22, 20, 25]\n",
      "[10, 12, 13, 15, 22, 20, 25]\n",
      "[10, 12, 13, 15, 20, 22, 25]\n"
     ]
    }
   ],
   "source": [
    "# Espacio para desarrollar el código siguiendo las instrucciones.\n",
    "\n",
    "from random import randint\n",
    "\n",
    "def partition2(S2, low2, high2):\n",
    "    rand = randint(low2, high2)\n",
    "    S2[low2], S2[rand] = S2[rand], S2[low2]\n",
    "    pivot2, left2, right2 = S2[low2], low2, high2\n",
    "    print(S2, left2, right2, \"pivot = \", pivot2)\n",
    "    while left2 < right2:\n",
    "        while left2 < high2 and S2[left2] <= pivot2:\n",
    "            left2 += 1\n",
    "        while right2 > low2 and pivot2 <= S2[right2]:\n",
    "            right2 -= 1\n",
    "        if left2 < right2:\n",
    "            S2[left2], S2[right2] = S2[right2], S2[left2]\n",
    "    S2[low2], S2[right2] = S2[right2], S2[low2]\n",
    "    return right2\n",
    "\n",
    "def quicksort2(S2, low2, high2):\n",
    "    if low2 < high2:\n",
    "        pivotpoint2 = partition2(S2, low2, high2)\n",
    "        quicksort2(S2, low2, pivotpoint2 - 1)\n",
    "        quicksort2(S2, pivotpoint2 + 1, high2)\n",
    "\n",
    "S = [15, 10, 12, 20, 25, 13, 22]\n",
    "quicksort(S, 0, len(S) - 1)\n",
    "print(S)\n"
   ]
  }
 ],
 "metadata": {
  "kernelspec": {
   "display_name": "Python 3 (ipykernel)",
   "language": "python",
   "name": "python3"
  },
  "language_info": {
   "codemirror_mode": {
    "name": "ipython",
    "version": 3
   },
   "file_extension": ".py",
   "mimetype": "text/x-python",
   "name": "python",
   "nbconvert_exporter": "python",
   "pygments_lexer": "ipython3",
   "version": "3.11.5"
  }
 },
 "nbformat": 4,
 "nbformat_minor": 5
}
